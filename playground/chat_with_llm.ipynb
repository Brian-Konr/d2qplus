{
 "cells": [
  {
   "cell_type": "code",
   "execution_count": 3,
   "id": "60b55565",
   "metadata": {},
   "outputs": [],
   "source": [
    "EXAMPLE_DOC = \"\"\"Statin Use and Breast Cancer Survival: A Nationwide Cohort Study from Finland\n",
    "Recent studies have suggested that statins, an established drug group in the prevention of cardiovascular mortality, could delay or prevent breast cancer recurrence but the effect on disease-specific mortality remains unclear. We evaluated risk of breast cancer death among statin users in a population-based cohort of breast cancer patients. The study cohort included all newly diagnosed breast cancer patients in Finland during 1995–2003 (31,236 cases), identified from the Finnish Cancer Registry. Information on statin use before and after the diagnosis was obtained from a national prescription database. We used the Cox proportional hazards regression method to estimate mortality among statin users with statin use as time-dependent variable. A total of 4,151 participants had used statins. During the median follow-up of 3.25 years after the diagnosis (range 0.08–9.0 years) 6,011 participants died, of which 3,619 (60.2%) was due to breast cancer. After adjustment for age, tumor characteristics, and treatment selection, both post-diagnostic and pre-diagnostic statin use were associated with lowered risk of breast cancer death (HR 0.46, 95% CI 0.38–0.55 and HR 0.54, 95% CI 0.44–0.67, respectively). The risk decrease by post-diagnostic statin use was likely affected by healthy adherer bias; that is, the greater likelihood of dying cancer patients to discontinue statin use as the association was not clearly dose-dependent and observed already at low-dose/short-term use. The dose- and time-dependence of the survival benefit among pre-diagnostic statin users suggests a possible causal effect that should be evaluated further in a clinical trial testing statins’ effect on survival in breast cancer patients.\n",
    "\"\"\""
   ]
  },
  {
   "cell_type": "code",
   "execution_count": 7,
   "id": "f5b3fdc8",
   "metadata": {},
   "outputs": [],
   "source": [
    "SYS_PROMPT = \"\"\"You are a query‐generation assistant. For each document you receive, Your task is to generate exactly 10 distinct questions based on the provided document, topics, and keywords.\n",
    "Your output MUST adhere to the following format STRICTLY:\n",
    "\n",
    "Rules:\n",
    "- Exactly 10 questions.\n",
    "- Each question on a new line.\n",
    "- NO introductory or concluding text (e.g., \"Here are the questions:\", \"Okay, here are...\", \"These are the queries:\").\n",
    "- NO numbering (e.g., \"1.\", \"2.\").\n",
    "- NO bullet points or other list markers (e.g., \"-\", \"*\").\n",
    "- Your entire response must consist ONLY of the 10 questions, each separated by a newline character.**\n",
    "\n",
    "When generating the queries, document content, topics and keywords information should all be considered:\n",
    "\n",
    "- **Implicitly cover** the document’s topics in proportion to their weights:  \n",
    "   - High-weight topics should steer more of your queries’ framing.  \n",
    "   - You may express topics via synonyms, broader phrases, or context (e.g., topic “survival analysis” → “risk estimation over time”).\n",
    "   - Ensure your 10 queries, as a set, reflect the topic balance.\n",
    "\n",
    "- **Explicitly include** the document’s keywords\n",
    "   - Embed them naturally (e.g., “breast cancer death” can appear as is).\n",
    "\"\"\"\n",
    "\n",
    "USER_PROMPT = \"\"\"Here is an example document with keywords and weighted topics. Generate 10 queries without any additional text:\n",
    "\n",
    "Document:\n",
    "Statin Use and Breast Cancer Survival: A Nationwide Cohort Study from Finland\n",
    "Recent studies have suggested that statins, an established drug group in the prevention of cardiovascular mortality, could delay or prevent breast cancer recurrence but the effect on disease-specific mortality remains unclear. We evaluated risk of breast cancer death among statin users in a population-based cohort of breast cancer patients. The study cohort included all newly diagnosed breast cancer patients in Finland during 1995–2003 (31,236 cases), identified from the Finnish Cancer Registry. Information on statin use before and after the diagnosis was obtained from a national prescription database. We used the Cox proportional hazards regression method to estimate mortality among statin users with statin use as time-dependent variable. A total of 4,151 participants had used statins. During the median follow-up of 3.25 years after the diagnosis (range 0.08–9.0 years) 6,011 participants died, of which 3,619 (60.2%) was due to breast cancer. After adjustment for age, tumor characteristics, and treatment selection, both post-diagnostic and pre-diagnostic statin use were associated with lowered risk of breast cancer death (HR 0.46, 95% CI 0.38–0.55 and HR 0.54, 95% CI 0.44–0.67, respectively). The risk decrease by post-diagnostic statin use was likely affected by healthy adherer bias; that is, the greater likelihood of dying cancer patients to discontinue statin use as the association was not clearly dose-dependent and observed already at low-dose/short-term use. The dose- and time-dependence of the survival benefit among pre-diagnostic statin users suggests a possible causal effect that should be evaluated further in a clinical trial testing statins’ effect on survival in breast cancer patients.\n",
    "\n",
    "Keywords:\n",
    "breast cancer death\n",
    "cohort study finland\n",
    "used cox proportional\n",
    "estimate mortality\n",
    "short term use\n",
    "\n",
    "Topics (with weights):\n",
    "[\n",
    "  [\"Statin Use and Breast Cancer Survival/Mortality\", 0.50],\n",
    "  [\"Epidemiological Cohort Study Methodology (Finland)\", 0.25],\n",
    "  [\"Analysis of Confounding Factors (Healthy Adherer Bias) and Causal Inference\", 0.25]\n",
    "]\n",
    "\"\"\""
   ]
  },
  {
   "cell_type": "code",
   "execution_count": 11,
   "id": "ae8b48a4",
   "metadata": {},
   "outputs": [
    {
     "name": "stdout",
     "output_type": "stream",
     "text": [
      "1. What is the estimated mortality rate among breast cancer patients who use statins for the first time?\n",
      "2. Can you explain the difference between post-diagnostic and pre-diagnostic statin use in relation to breast cancer survival?\n",
      "3. What is the statistical significance of the association between post-diagnostic statin use and breast cancer death?\n",
      "4. How does the estimated mortality rate among breast cancer patients who use statins compare to the general population?\n",
      "5. Can you identify the potential causal effect of statin use on breast cancer survival in a clinical trial?\n",
      "6. What is the estimated proportion of breast cancer patients who use statins for the first time?\n",
      "7. How does the analysis of confounding factors (healthy adherer bias) affect the observed association between post-diagnostic statin use and breast cancer death?\n",
      "8. What is the estimated time dependence of the survival benefit among pre-diagnostic statin users?\n",
      "9. Can you identify the potential limitations of the study design in evaluating the effect of statins on breast cancer survival?\n",
      "10. How does the estimated mortality rate among breast cancer patients who use statins compare to other breast cancer subgroups (e.g., those with a family history of breast cancer)?\n"
     ]
    }
   ],
   "source": [
    "from openai import OpenAI\n",
    "# Set OpenAI's API key and API base to use vLLM's API server.\n",
    "openai_api_key = \"EMPTY\"\n",
    "openai_api_base = \"http://localhost:8000/v1\"\n",
    "\n",
    "client = OpenAI(\n",
    "    api_key=openai_api_key,\n",
    "    base_url=openai_api_base,\n",
    ")\n",
    "\n",
    "\n",
    "chat_response = client.chat.completions.create(\n",
    "    model=\"meta-llama/Llama-3.2-1B-Instruct\",\n",
    "    # messages=[\n",
    "    #     {\"role\": \"system\", \"content\": \"You are an expert Question Generation AI. Your task is to carefully read the provided document and generate exactly 10 distinct questions that can be directly and definitively answered using ONLY the information present in the document. You must strictly adhere to output formatting instructions and generate only 10 distinct questions without any additional text.\"},\n",
    "    #     {\"role\": \"user\", \"content\": f\"Please read the following document and generate 10 questions: {EXAMPLE_DOC}\"},\n",
    "    # ],\n",
    "    messages=[\n",
    "        {\"role\": \"system\", \"content\": SYS_PROMPT},\n",
    "        {\"role\": \"user\", \"content\": USER_PROMPT},\n",
    "    ],\n",
    "    temperature=0.7,\n",
    "    max_completion_tokens=256,\n",
    "    # extra_body={\"guided_json\": Query.model_json_schema()},\n",
    ")\n",
    "\n",
    "print(chat_response.choices[0].message.content)"
   ]
  },
  {
   "cell_type": "code",
   "execution_count": null,
   "id": "f30894c4",
   "metadata": {},
   "outputs": [],
   "source": [
    "\"\"\"LLM3.2-1B-Instruct output following topics and keywords weights:\n",
    "Here are 10 queries without any additional text:\n",
    "\n",
    "1. How do statin use and breast cancer survival mortality rates vary among different age groups?\n",
    "2. What is the effect of pre-diagnostic statin use on breast cancer death in a Finnish cohort study?\n",
    "3. Which statistical method was used to analyze the survival benefit of statin use in breast cancer patients?\n",
    "4. What is the association between statin use and breast cancer death in a nationwide cohort study?\n",
    "5. How does post-diagnostic statin use affect the risk of breast cancer death in a Finnish population?\n",
    "6. Can pre-diagnostic statin use lower the risk of breast cancer death in patients with different tumor characteristics?\n",
    "7. What is the dose-response relationship between statin use and breast cancer death in a Finnish cohort study?\n",
    "8. How does the impact of healthy adherer bias affect the observed survival benefit of statin use in breast cancer patients?\n",
    "9. What is the time-dependent effect of statin use on breast cancer death in a Finnish cohort study?\n",
    "10. What are the key factors that influence the effect of statin use on breast cancer survival mortality rates in a Finnish population?\n",
    "\"\"\""
   ]
  },
  {
   "cell_type": "markdown",
   "id": "73d22e78",
   "metadata": {},
   "source": [
    "## Promptagator Prompt"
   ]
  },
  {
   "cell_type": "code",
   "execution_count": 1,
   "id": "4066b87b",
   "metadata": {},
   "outputs": [
    {
     "name": "stdout",
     "output_type": "stream",
     "text": [
      "Loaded 8 few-shot examples from /home/guest/r12922050/GitHub/d2qplus/prompts/promptagator/few_shot_examples.jsonl\n",
      "{'query_id': 'PLAIN-1', 'query_text': 'Why Deep Fried Foods May Cause Cancer', 'doc_id': 'MED-2421', 'doc_text': 'Background: Acrylamide is a common dietary exposure that crosses the human placenta. It is classified as a probable human carcinogen, and developmental toxicity has been observed in rodents. Objectives: We examined the associations between prenatal exposure to acrylamide and birth outcomes in a prospective European mother–child study. Methods: Hemoglobin (Hb) adducts of acrylamide and its metabolite glycidamide were measured in cord blood (reflecting cumulated exposure in the last months of pregnancy) from 1,101 singleton pregnant women recruited in Denmark, England, Greece, Norway, and Spain during 2006–2010. Maternal diet was estimated through food-frequency questionnaires. Results: Both acrylamide and glycidamide Hb adducts were associated with a statistically significant reduction in birth weight and head circumference. The estimated difference in birth weight for infants in the highest versus lowest quartile of acrylamide Hb adduct levels after adjusting for gestational age and country was –132 g (95% CI: –207, –56); the corresponding difference for head circumference was –0.33 cm (95% CI: –0.61, –0.06). Findings were similar in infants of nonsmokers, were consistent across countries, and remained after adjustment for factors associated with reduced birth weight. Maternal consumption of foods rich in acrylamide, such as fried potatoes, was associated with cord blood acrylamide adduct levels and with reduced birth weight. Conclusions: Dietary exposure to acrylamide was associated with reduced birth weight and head circumference. Consumption of specific foods during pregnancy was associated with higher acrylamide exposure in utero. If confirmed, these findings suggest that dietary intake of acrylamide should be reduced among pregnant women.'}\n"
     ]
    }
   ],
   "source": [
    "import json\n",
    "\n",
    "FEW_SHOT_EXAMPLES_PATH = \"/home/guest/r12922050/GitHub/d2qplus/prompts/promptagator/few_shot_examples.jsonl\"\n",
    "with open(FEW_SHOT_EXAMPLES_PATH, \"r\") as f:\n",
    "    few_shot_examples = [json.loads(line) for line in f]\n",
    "print(f\"Loaded {len(few_shot_examples)} few-shot examples from {FEW_SHOT_EXAMPLES_PATH}\")\n",
    "print(few_shot_examples[0])"
   ]
  },
  {
   "cell_type": "code",
   "execution_count": 14,
   "id": "025b5726",
   "metadata": {},
   "outputs": [],
   "source": [
    "PROMPTAGATOR_SYS_PROMPT = \"\"\"You are a query generation assistant. Your task is to generate a query based on the provided article. Your output MUST adhere the following format strictly:\n",
    "\n",
    "Rules:\n",
    "- NO introductory or concluding text (e.g., \"Here are the questions:\", \"Okay, here are...\", \"These are the queries:\").\n",
    "- Exactly 1 query\n",
    "\n",
    "The following are some examples:\\n\"\"\"\n",
    "for example in few_shot_examples:\n",
    "    PROMPTAGATOR_SYS_PROMPT += f\"Article: {example['doc_text']}\\n\"\n",
    "    PROMPTAGATOR_SYS_PROMPT += f\"Query: {example['query_text']}\\n\\n\"\n",
    "PROMPTAGATOR_USER_PROMPT = \"Here is an example document. Generate a query without any additional text:\\n\\n\" + f\"Article: {EXAMPLE_DOC}\"\n"
   ]
  },
  {
   "cell_type": "code",
   "execution_count": 19,
   "id": "150afa00",
   "metadata": {},
   "outputs": [
    {
     "name": "stdout",
     "output_type": "stream",
     "text": [
      "You are a query generation assistant. Your task is to generate a query based on the provided article. Your output MUST adhere the following format strictly:\n",
      "\n",
      "Rules:\n",
      "- NO introductory or concluding text (e.g., \"Here are the questions:\", \"Okay, here are...\", \"These are the queries:\").\n",
      "- Exactly 1 query\n",
      "\n",
      "The following are some examples:\n",
      "Article: Background: Acrylamide is a common dietary exposure that crosses the human placenta. It is classified as a probable human carcinogen, and developmental toxicity has been observed in rodents. Objectives: We examined the associations between prenatal exposure to acrylamide and birth outcomes in a prospective European mother–child study. Methods: Hemoglobin (Hb) adducts of acrylamide and its metabolite glycidamide were measured in cord blood (reflecting cumulated exposure in the last months of pregnancy) from 1,101 singleton pregnant women recruited in Denmark, England, Greece, Norway, and Spain during 2006–2010. Maternal diet was estimated through food-frequency questionnaires. Results: Both acrylamide and glycidamide Hb adducts were associated with a statistically significant reduction in birth weight and head circumference. The estimated difference in birth weight for infants in the highest versus lowest quartile of acrylamide Hb adduct levels after adjusting for gestational age and country was –132 g (95% CI: –207, –56); the corresponding difference for head circumference was –0.33 cm (95% CI: –0.61, –0.06). Findings were similar in infants of nonsmokers, were consistent across countries, and remained after adjustment for factors associated with reduced birth weight. Maternal consumption of foods rich in acrylamide, such as fried potatoes, was associated with cord blood acrylamide adduct levels and with reduced birth weight. Conclusions: Dietary exposure to acrylamide was associated with reduced birth weight and head circumference. Consumption of specific foods during pregnancy was associated with higher acrylamide exposure in utero. If confirmed, these findings suggest that dietary intake of acrylamide should be reduced among pregnant women.\n",
      "Query: Why Deep Fried Foods May Cause Cancer\n",
      "\n",
      "Article: OBJECTIVE: To examine the relation between retinal artery disease and cerebral small-vessel disease (SVD). METHODS: In a prospective cohort of patients with symptomatic atherosclerotic disease, the authors performed retinal photographs and brain MRI. Two ophthalmologists, not aware of the MR results, independently assessed retinal arterial narrowing, crossings, sclerosis, and tortuosity according to standard scoring lists. Two observers independently assessed white matter lesions (WML) and lacunar infarcts on the MR images. Lesions were considered abnormal only when both ophthalmologists or MR raters agreed. Cerebral SVD was defined as the presence of WML or lacunar infarcts. RESULTS: In 179 patients, retinal photographs and brain MRI were performed. Of the 108 patients with MR signs of SVD, 92% had at least one retinal vascular abnormality; of the 71 patients without SVD, 77% had retinal pathology (p < 0.01). All types of retinal vascular pathology occurred more frequently in patients with SVD, but only retinal arterial narrowing and sclerosis differed significantly. In the 109 normotensive patients, the presence of any retinal vascular change correlated with signs of SVD (p = 0.01). CONCLUSION: Pathologic changes in the retinal arteries parallel changes in the small cerebral arteries that cause WML and lacunes, both in hypertensive and in normotensive patients.\n",
      "Query: How to Treat Multiple Sclerosis With Diet\n",
      "\n",
      "Article: DR (dietary restriction), or reduced food intake without malnutrition, is associated with extended longevity, improved metabolic fitness and increased stress resistance in a wide range of organisms. DR is often referred to as calorie restriction, implying that reduced energy intake is responsible for its widespread and evolutionarily conserved benefits. However, recent data indicate dietary amino acid restriction as a key mediator of DR benefits. In fruitflies, an imbalance in essential amino acid intake is thought to underlie longevity benefits of DR. In mammals, reduced dietary protein or essential amino acid intake can extend longevity, improve metabolic fitness and increase stress resistance. In the present paper we review two evolutionarily conserved signal transduction pathways responsible for sensing amino acid levels. The eIF2α (eukaryotic initiation factor 2α) kinase GCN2 (general amino acid control non-derepressible 2) senses the absence of one or more amino acids by virtue of direct binding to uncharged cognate tRNAs. The presence of certain amino acids, such as leucine, permits activation of the master growth regulating kinase TOR (target of rapamycin). These two signal transduction pathways react to amino acid deprivation by inhibiting general protein translation while at the same time increasing translation of specific mRNAs involved in restoring homoeostasis. Together, these pathways may contribute to the regulation of longevity, metabolic fitness and stress resistance.\n",
      "Query: Living Longer by Reducing Leucine Intake\n",
      "\n",
      "Article: OBJECTIVE: This study will determine if the selective use of attractive names can be a sustainable, scalable means to increase the selection of vegetables in school lunchrooms. METHODS: Study 1 paired an attractive name with carrots in five elementary schools (n=147) and measured selection and consumption over a week compared to controls. Study 2 tracked food sales of vegetables in two elementary schools (n=1017) that were systematically attractively named or not named over a two-month period. Both studies were conducted in New York in 2011. RESULTS: Study 1 found that elementary students ate twice the percentage of their carrots if attractively named as \"X-ray Vision Carrots,\" than if un-named or generically named as the \"Food of the Day.\" Study 2 found that elementary school students were 16% more likely to persistently choose more hot vegetable dishes (p<0.001) when they were given fun or attractive names. DISCUSSION: Attractive names effectively and persistently increased healthy food consumption in elementary schools. The scalability of this is underscored by the success of Study 2, which was implemented and executed for negligible cost by a high school student volunteer. Copyright © 2012 Elsevier Inc. All rights reserved.\n",
      "Query: How to Get Kids to Eat Their Vegetables\n",
      "\n",
      "Article: The purpose of this study was to compare the effects of unsweetened fruit juice and regular, decaffeinated soda on postprandial serum glucose levels in individuals with non-insulin-dependent diabetes mellitus (NIDDM) when these liquids are ingested separately as part of mixed meals. Eighteen individuals with NIDDM consumed three test breakfasts calculated using the diabetic exchange meal-planning system. Foods were identical in each of the breakfasts except for foods in the fruit exchange. Carbohydrate-equivalent amounts of fresh orange slices, unsweetened orange juice, and regular, decaffeinated Coke were consumed in breakfasts 1, 2, and 3, respectively. Serum glucose samples were drawn at fasting and 1, 2, and 3 hours postprandially. No difference was found in the postprandial serum glucose response when Coke versus orange juice was consumed in the breakfast. These findings question the appropriateness of using unsweetened fruit juices in routine meal planning for individuals with NIDDM.\n",
      "Query: Citrus to Reduce Muscle Fatigue\n",
      "\n",
      "Article: Background Omnivorous diets are high in arachidonic acid (AA) compared to vegetarian diets. Research shows that high intakes of AA promote changes in brain that can disturb mood. Omnivores who eat fish regularly increase their intakes of eicosapentaenoic acid (EPA) and docosahexaenoic acid (DHA), fats that oppose the negative effects of AA in vivo. In a recent cross-sectional study, omnivores reported significantly worse mood than vegetarians despite higher intakes of EPA and DHA. This study investigated the impact of restricting meat, fish, and poultry on mood. Findings Thirty-nine omnivores were randomly assigned to a control group consuming meat, fish, and poultry daily (OMN); a group consuming fish 3-4 times weekly but avoiding meat and poultry (FISH), or a vegetarian group avoiding meat, fish, and poultry (VEG). At baseline and after two weeks, participants completed a food frequency questionnaire, the Profile of Mood States questionnaire and the Depression Anxiety and Stress Scales. After the diet intervention, VEG participants reduced their EPA, DHA, and AA intakes, while FISH participants increased their EPA and DHA intakes. Mood scores were unchanged for OMN or FISH participants, but several mood scores for VEG participants improved significantly after two weeks. Conclusions Restricting meat, fish, and poultry improved some domains of short-term mood state in modern omnivores. To our knowledge, this is the first trial to examine the impact of restricting meat, fish, and poultry on mood state in omnivores.\n",
      "Query: Can We Fight the Blues With Greens?\n",
      "\n",
      "Article: Background: Dietary antioxidants may protect against DNA damage induced by endogenous and exogenous sources, including ionizing radiation (IR), but data from IR-exposed human populations are limited. Objective: The objective was to examine the association between the frequency of chromosome translocations, as a biomarker of cumulative DNA damage, and intakes of vitamins C and E and carotenoids in 82 male airline pilots. Design: Dietary intakes were estimated by using a self-administered semiquantitative food-frequency questionnaire. Translocations were scored by using fluorescence in situ hybridization with whole chromosome paints. Negative binomial regression was used to estimate rate ratios and 95% CIs, adjusted for potential confounders. Results: Significant and inverse associations were observed between translocation frequency and intakes of vitamin C, β-carotene, β-cryptoxanthin, and lutein-zeaxanthin from food (P < 0.05). Translocation frequency was not associated with the intake of vitamin E, α-carotene, or lycopene from food; total vitamin C or E from food and supplements; or vitamin C or E or multivitamin supplements. The adjusted rate ratios (95% CI) for ≥median compared with <median servings per week of high–vitamin C fruit and vegetables, citrus fruit, and green leafy vegetables were 0.61 (0.43, 0.86), 0.64 (0.46, 0.89), and 0.59 (0.43, 0.81), respectively. The strongest inverse association was observed for ≥median compared with <median combined intakes of vitamins C and E, β-carotene, β-cryptoxanthin, and lutein-zeaxanthin from food: 0.27 (0.14, 0.55). Conclusion: High combined intakes of vitamins C and E, β-carotene, β-cryptoxanthin, and lutein-zeaxanthin from food, or a diet high in their food sources, may protect against cumulative DNA damage in IR-exposed persons.\n",
      "Query: Dealing With Air Travel Radiation Exposure\n",
      "\n",
      "Article: This study examined the impact of academic stress on salivary cortisol concentrations and lactic acid bacteria activity. Whole, unstimulated saliva samples and faecal samples were collected from 23 healthy undergraduate students (23.0+/-6.8 years; range 18-44) over two 1-week periods: during the beginning of semester (low-stress baseline condition) and during the first week of exams (high-stress condition). Students also completed a series of questionnaires measuring perceived levels of stress, gastrointestinal symptoms, and nutritional intake. Significant findings indicated that faecal lactic acid bacterial levels were lower during the high-stress condition. Paralleling this, students rated perceived levels of stress as being greater during the exam period compared to the baseline condition. The findings from this study have provided further insight into the link between stress and gastrointestinal flora activity in humans.\n",
      "Query: How Probiotics Affect Mental Health\n",
      "\n",
      "\n"
     ]
    }
   ],
   "source": [
    "print(PROMPTAGATOR_SYS_PROMPT)"
   ]
  },
  {
   "cell_type": "code",
   "execution_count": 28,
   "id": "58d0a54c",
   "metadata": {},
   "outputs": [
    {
     "name": "stdout",
     "output_type": "stream",
     "text": [
      "How does statin use affect breast cancer survival?\n"
     ]
    }
   ],
   "source": [
    "from openai import OpenAI\n",
    "# Set OpenAI's API key and API base to use vLLM's API server.\n",
    "openai_api_key = \"EMPTY\"\n",
    "openai_api_base = \"http://localhost:8000/v1\"\n",
    "\n",
    "client = OpenAI(\n",
    "    api_key=openai_api_key,\n",
    "    base_url=openai_api_base,\n",
    ")\n",
    "\n",
    "\n",
    "chat_response = client.chat.completions.create(\n",
    "    model=\"meta-llama/Llama-3.2-1B-Instruct\",\n",
    "    # messages=[\n",
    "    #     {\"role\": \"system\", \"content\": \"You are an expert Question Generation AI. Your task is to carefully read the provided document and generate exactly 10 distinct questions that can be directly and definitively answered using ONLY the information present in the document. You must strictly adhere to output formatting instructions and generate only 10 distinct questions without any additional text.\"},\n",
    "    #     {\"role\": \"user\", \"content\": f\"Please read the following document and generate 10 questions: {EXAMPLE_DOC}\"},\n",
    "    # ],\n",
    "    messages=[\n",
    "        {\"role\": \"system\", \"content\": PROMPTAGATOR_SYS_PROMPT},\n",
    "        {\"role\": \"user\", \"content\": PROMPTAGATOR_USER_PROMPT},\n",
    "    ],\n",
    "    temperature=0.7,\n",
    "    max_completion_tokens=64,\n",
    "    # extra_body={\"guided_json\": Query.model_json_schema()},\n",
    ")\n",
    "\n",
    "print(chat_response.choices[0].message.content)\n"
   ]
  },
  {
   "cell_type": "code",
   "execution_count": null,
   "id": "62fafd6b",
   "metadata": {},
   "outputs": [],
   "source": []
  }
 ],
 "metadata": {
  "kernelspec": {
   "display_name": "d2qplus",
   "language": "python",
   "name": "python3"
  },
  "language_info": {
   "codemirror_mode": {
    "name": "ipython",
    "version": 3
   },
   "file_extension": ".py",
   "mimetype": "text/x-python",
   "name": "python",
   "nbconvert_exporter": "python",
   "pygments_lexer": "ipython3",
   "version": "3.9.21"
  }
 },
 "nbformat": 4,
 "nbformat_minor": 5
}
