{
 "cells": [
  {
   "cell_type": "code",
   "execution_count": 7,
   "id": "60b55565",
   "metadata": {},
   "outputs": [],
   "source": [
    "EXAMPLE_DOC = \"\"\"Statin Use and Breast Cancer Survival: A Nationwide Cohort Study from Finland\n",
    "Recent studies have suggested that statins, an established drug group in the prevention of cardiovascular mortality, could delay or prevent breast cancer recurrence but the effect on disease-specific mortality remains unclear. We evaluated risk of breast cancer death among statin users in a population-based cohort of breast cancer patients. The study cohort included all newly diagnosed breast cancer patients in Finland during 1995–2003 (31,236 cases), identified from the Finnish Cancer Registry. Information on statin use before and after the diagnosis was obtained from a national prescription database. We used the Cox proportional hazards regression method to estimate mortality among statin users with statin use as time-dependent variable. A total of 4,151 participants had used statins. During the median follow-up of 3.25 years after the diagnosis (range 0.08–9.0 years) 6,011 participants died, of which 3,619 (60.2%) was due to breast cancer. After adjustment for age, tumor characteristics, and treatment selection, both post-diagnostic and pre-diagnostic statin use were associated with lowered risk of breast cancer death (HR 0.46, 95% CI 0.38–0.55 and HR 0.54, 95% CI 0.44–0.67, respectively). The risk decrease by post-diagnostic statin use was likely affected by healthy adherer bias; that is, the greater likelihood of dying cancer patients to discontinue statin use as the association was not clearly dose-dependent and observed already at low-dose/short-term use. The dose- and time-dependence of the survival benefit among pre-diagnostic statin users suggests a possible causal effect that should be evaluated further in a clinical trial testing statins’ effect on survival in breast cancer patients.\n",
    "\"\"\""
   ]
  },
  {
   "cell_type": "code",
   "execution_count": 36,
   "id": "f5b3fdc8",
   "metadata": {},
   "outputs": [],
   "source": [
    "SYS_PROMPT = \"\"\"You are a query‐generation assistant. For each document you receive, Your task is to generate exactly 10 distinct questions based on the provided document, topics, and keywords.\n",
    "Your output MUST adhere to the following format STRICTLY:\n",
    "- Exactly 10 questions.\n",
    "- Each question on a new line.\n",
    "- NO introductory or concluding text (e.g., \"Here are the questions:\", \"Okay, here are...\", \"These are the queries:\").\n",
    "- NO numbering (e.g., \"1.\", \"2.\").\n",
    "- NO bullet points or other list markers (e.g., \"-\", \"*\").\n",
    "- Your entire response must consist ONLY of the 10 questions, each separated by a newline character.**\n",
    "\n",
    "When generating the queries, document content, topics and keywords information should all be considered:\n",
    "\n",
    "- **Implicitly cover** the document’s topics in proportion to their weights:  \n",
    "   - High-weight topics should steer more of your queries’ framing.  \n",
    "   - You may express topics via synonyms, broader phrases, or context (e.g., topic “survival analysis” → “risk estimation over time”).\n",
    "   - Ensure your 10 queries, as a set, reflect the topic balance.\n",
    "\n",
    "- **Explicitly include** the document’s keywords\n",
    "   - Embed them naturally (e.g., “breast cancer death” can appear as is).\n",
    "\"\"\"\n",
    "\n",
    "USER_PROMPT = \"\"\"Here is an example document with keywords and weighted topics. Generate 10 queries without any additional text:\n",
    "\n",
    "Document:\n",
    "Statin Use and Breast Cancer Survival: A Nationwide Cohort Study from Finland\n",
    "Recent studies have suggested that statins, an established drug group in the prevention of cardiovascular mortality, could delay or prevent breast cancer recurrence but the effect on disease-specific mortality remains unclear. We evaluated risk of breast cancer death among statin users in a population-based cohort of breast cancer patients. The study cohort included all newly diagnosed breast cancer patients in Finland during 1995–2003 (31,236 cases), identified from the Finnish Cancer Registry. Information on statin use before and after the diagnosis was obtained from a national prescription database. We used the Cox proportional hazards regression method to estimate mortality among statin users with statin use as time-dependent variable. A total of 4,151 participants had used statins. During the median follow-up of 3.25 years after the diagnosis (range 0.08–9.0 years) 6,011 participants died, of which 3,619 (60.2%) was due to breast cancer. After adjustment for age, tumor characteristics, and treatment selection, both post-diagnostic and pre-diagnostic statin use were associated with lowered risk of breast cancer death (HR 0.46, 95% CI 0.38–0.55 and HR 0.54, 95% CI 0.44–0.67, respectively). The risk decrease by post-diagnostic statin use was likely affected by healthy adherer bias; that is, the greater likelihood of dying cancer patients to discontinue statin use as the association was not clearly dose-dependent and observed already at low-dose/short-term use. The dose- and time-dependence of the survival benefit among pre-diagnostic statin users suggests a possible causal effect that should be evaluated further in a clinical trial testing statins’ effect on survival in breast cancer patients.\n",
    "\n",
    "Keywords (with weights):\n",
    "breast cancer death\n",
    "cohort study finland\n",
    "used cox proportional\n",
    "estimate mortality\n",
    "short term use\n",
    "\n",
    "Topics (with weights):\n",
    "[\n",
    "  [\"Statin Use and Breast Cancer Survival/Mortality\", 0.50],\n",
    "  [\"Epidemiological Cohort Study Methodology (Finland)\", 0.25],\n",
    "  [\"Analysis of Confounding Factors (Healthy Adherer Bias) and Causal Inference\", 0.25]\n",
    "]\n",
    "\"\"\""
   ]
  },
  {
   "cell_type": "code",
   "execution_count": 39,
   "id": "ae8b48a4",
   "metadata": {},
   "outputs": [
    {
     "name": "stdout",
     "output_type": "stream",
     "text": [
      "1. What is the estimated risk of breast cancer death among statin users in a population-based cohort of breast cancer patients?\n",
      "2. How did the dose and time of statin use affect the risk of breast cancer death in pre-diagnostic statin users?\n",
      "3. What is the proportion of breast cancer deaths due to breast cancer among statin users?\n",
      "4. What is the estimated risk of breast cancer death among statin users with post-diagnostic statin use?\n",
      "5. What is the effect of statin use on the risk of breast cancer death in a cohort study of Finland?\n",
      "6. How did the use of a Cox proportional hazards regression method affect the estimation of mortality among statin users?\n",
      "7. What is the correlation between statin use and disease-specific mortality in breast cancer patients?\n",
      "8. What is the estimated risk of breast cancer death among statin users with pre-diagnostic statin use?\n",
      "9. What is the effect of healthy adherer bias on the observed risk of breast cancer death among statin users?\n",
      "10. How does the dose and time of statin use affect the causal effect of statins on breast cancer survival in breast cancer patients?\n"
     ]
    }
   ],
   "source": [
    "from openai import OpenAI\n",
    "# Set OpenAI's API key and API base to use vLLM's API server.\n",
    "openai_api_key = \"EMPTY\"\n",
    "openai_api_base = \"http://localhost:8000/v1\"\n",
    "\n",
    "client = OpenAI(\n",
    "    api_key=openai_api_key,\n",
    "    base_url=openai_api_base,\n",
    ")\n",
    "\n",
    "\n",
    "chat_response = client.chat.completions.create(\n",
    "    model=\"meta-llama/Llama-3.2-1B-Instruct\",\n",
    "    # messages=[\n",
    "    #     {\"role\": \"system\", \"content\": \"You are an expert Question Generation AI. Your task is to carefully read the provided document and generate exactly 10 distinct questions that can be directly and definitively answered using ONLY the information present in the document. You must strictly adhere to output formatting instructions and generate only 10 distinct questions without any additional text.\"},\n",
    "    #     {\"role\": \"user\", \"content\": f\"Please read the following document and generate 10 questions: {EXAMPLE_DOC}\"},\n",
    "    # ],\n",
    "    messages=[\n",
    "        {\"role\": \"system\", \"content\": SYS_PROMPT},\n",
    "        {\"role\": \"user\", \"content\": USER_PROMPT},\n",
    "    ],\n",
    "    temperature=0.7,\n",
    "    max_completion_tokens=256,\n",
    "    # extra_body={\"guided_json\": Query.model_json_schema()},\n",
    ")\n",
    "\n",
    "print(chat_response.choices[0].message.content)"
   ]
  },
  {
   "cell_type": "code",
   "execution_count": null,
   "id": "f30894c4",
   "metadata": {},
   "outputs": [],
   "source": [
    "\"\"\"LLM3.2-1B-Instruct output following topics and keywords weights:\n",
    "Here are 10 queries without any additional text:\n",
    "\n",
    "1. How do statin use and breast cancer survival mortality rates vary among different age groups?\n",
    "2. What is the effect of pre-diagnostic statin use on breast cancer death in a Finnish cohort study?\n",
    "3. Which statistical method was used to analyze the survival benefit of statin use in breast cancer patients?\n",
    "4. What is the association between statin use and breast cancer death in a nationwide cohort study?\n",
    "5. How does post-diagnostic statin use affect the risk of breast cancer death in a Finnish population?\n",
    "6. Can pre-diagnostic statin use lower the risk of breast cancer death in patients with different tumor characteristics?\n",
    "7. What is the dose-response relationship between statin use and breast cancer death in a Finnish cohort study?\n",
    "8. How does the impact of healthy adherer bias affect the observed survival benefit of statin use in breast cancer patients?\n",
    "9. What is the time-dependent effect of statin use on breast cancer death in a Finnish cohort study?\n",
    "10. What are the key factors that influence the effect of statin use on breast cancer survival mortality rates in a Finnish population?\n",
    "\"\"\""
   ]
  }
 ],
 "metadata": {
  "kernelspec": {
   "display_name": "d2qplus",
   "language": "python",
   "name": "python3"
  },
  "language_info": {
   "codemirror_mode": {
    "name": "ipython",
    "version": 3
   },
   "file_extension": ".py",
   "mimetype": "text/x-python",
   "name": "python",
   "nbconvert_exporter": "python",
   "pygments_lexer": "ipython3",
   "version": "3.9.21"
  }
 },
 "nbformat": 4,
 "nbformat_minor": 5
}
