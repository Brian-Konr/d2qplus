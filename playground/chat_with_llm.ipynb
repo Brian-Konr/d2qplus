{
 "cells": [
  {
   "cell_type": "code",
   "execution_count": 12,
   "id": "60b55565",
   "metadata": {},
   "outputs": [],
   "source": [
    "EXAMPLE_DOC = \"\"\"Recent studies have suggested that statins, an established drug group in the prevention of cardiovascular mortality, could delay or prevent breast cancer recurrence but the effect on disease-specific mortality remains unclear. We evaluated risk of breast cancer death among statin users in a population-based cohort of breast cancer patients. The study cohort included all newly diagnosed breast cancer patients in Finland during 1995\\u20132003 (31,236 cases), identified from the Finnish Cancer Registry. Information on statin use before and after the diagnosis was obtained from a national prescription database. We used the Cox proportional hazards regression method to estimate mortality among statin users with statin use as time-dependent variable. A total of 4,151 participants had used statins. During the median follow-up of 3.25 years after the diagnosis (range 0.08\\u20139.0 years) 6,011 participants died, of which 3,619 (60.2%) was due to breast cancer. After adjustment for age, tumor characteristics, and treatment selection, both post-diagnostic and pre-diagnostic statin use were associated with lowered risk of breast cancer death (HR 0.46, 95% CI 0.38\\u20130.55 and HR 0.54, 95% CI 0.44\\u20130.67, respectively). The risk decrease by post-diagnostic statin use was likely affected by healthy adherer bias; that is, the greater likelihood of dying cancer patients to discontinue statin use as the association was not clearly dose-dependent and observed already at low-dose/short-term use. The dose- and time-dependence of the survival benefit among pre-diagnostic statin users suggests a possible causal effect that should be evaluated further in a clinical trial testing statins\\u2019 effect on survival in breast cancer patients.\n",
    "\"\"\""
   ]
  },
  {
   "cell_type": "code",
   "execution_count": null,
   "id": "ae8b48a4",
   "metadata": {},
   "outputs": [
    {
     "name": "stdout",
     "output_type": "stream",
     "text": [
      "Chat response:\n",
      "1. What is the estimated mortality rate of breast cancer recurrence among statin users in the study cohort?\n",
      "2. How many participants had used statins in the study?\n",
      "3. What is the estimated mortality rate of breast cancer death among statin users in the study cohort?\n",
      "4. What is the estimated HR of breast cancer death among statin users in the study cohort?\n",
      "5. How many participants died due to breast cancer in the study cohort?\n",
      "6. What is the estimated HR of breast cancer death among statin users in the study cohort before diagnosis?\n",
      "7. How long was the median follow-up period for statin users in the study cohort?\n",
      "8. What is the estimated mortality rate of breast cancer death among statin users in the study cohort after adjustment for age and tumor characteristics?\n",
      "9. What is the estimated HR of breast cancer death among statin users in the study cohort after adjustment for age and tumor characteristics?\n",
      "10. What is the estimated HR of breast cancer death among statin users in the study cohort before adjustment for age and tumor characteristics?\n"
     ]
    }
   ],
   "source": [
    "from openai import OpenAI\n",
    "# Set OpenAI's API key and API base to use vLLM's API server.\n",
    "openai_api_key = \"EMPTY\"\n",
    "openai_api_base = \"http://localhost:8000/v1\"\n",
    "\n",
    "client = OpenAI(\n",
    "    api_key=openai_api_key,\n",
    "    base_url=openai_api_base,\n",
    ")\n",
    "\n",
    "from pydantic import BaseModel\n",
    "class Query(BaseModel):\n",
    "    queries: list[str]\n",
    "\n",
    "chat_response = client.chat.completions.create(\n",
    "    model=\"meta-llama/Llama-3.2-1B-Instruct\",\n",
    "    messages=[\n",
    "        {\"role\": \"system\", \"content\": \"You are an expert Question Generation AI. Your task is to carefully read the provided document and generate exactly 10 distinct questions that can be directly and definitively answered using ONLY the information present in the document. You must strictly adhere to output formatting instructions and generate only 10 distinct questions without any additional text.\"},\n",
    "        {\"role\": \"user\", \"content\": f\"Please read the following document and generate 10 questions: {EXAMPLE_DOC}\"},\n",
    "    ],\n",
    "    temperature=0.7,\n",
    "    max_completion_tokens=512,\n",
    "    # extra_body={\"guided_json\": Query.model_json_schema()},\n",
    ")\n",
    "\n",
    "print(\"Chat response:\")\n",
    "print(chat_response.choices[0].message.content)"
   ]
  },
  {
   "cell_type": "code",
   "execution_count": null,
   "id": "f30894c4",
   "metadata": {},
   "outputs": [],
   "source": []
  }
 ],
 "metadata": {
  "kernelspec": {
   "display_name": "d2qplus",
   "language": "python",
   "name": "python3"
  },
  "language_info": {
   "codemirror_mode": {
    "name": "ipython",
    "version": 3
   },
   "file_extension": ".py",
   "mimetype": "text/x-python",
   "name": "python",
   "nbconvert_exporter": "python",
   "pygments_lexer": "ipython3",
   "version": "3.9.21"
  }
 },
 "nbformat": 4,
 "nbformat_minor": 5
}
