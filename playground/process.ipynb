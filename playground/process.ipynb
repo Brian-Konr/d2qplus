{
 "cells": [
  {
   "cell_type": "code",
   "execution_count": 2,
   "id": "0a3fafd1",
   "metadata": {},
   "outputs": [],
   "source": [
    "import pandas as pd\n",
    "\n",
    "qrels = pd.read_csv(\"test.tsv\", sep=\"\\t\", header=0, names=[\"qid\", \"docno\", \"label\"])"
   ]
  },
  {
   "cell_type": "code",
   "execution_count": 3,
   "id": "297b9d76",
   "metadata": {},
   "outputs": [
    {
     "data": {
      "text/html": [
       "<div>\n",
       "<style scoped>\n",
       "    .dataframe tbody tr th:only-of-type {\n",
       "        vertical-align: middle;\n",
       "    }\n",
       "\n",
       "    .dataframe tbody tr th {\n",
       "        vertical-align: top;\n",
       "    }\n",
       "\n",
       "    .dataframe thead th {\n",
       "        text-align: right;\n",
       "    }\n",
       "</style>\n",
       "<table border=\"1\" class=\"dataframe\">\n",
       "  <thead>\n",
       "    <tr style=\"text-align: right;\">\n",
       "      <th></th>\n",
       "      <th>qid</th>\n",
       "      <th>docno</th>\n",
       "      <th>label</th>\n",
       "    </tr>\n",
       "  </thead>\n",
       "  <tbody>\n",
       "    <tr>\n",
       "      <th>0</th>\n",
       "      <td>1</td>\n",
       "      <td>31715818</td>\n",
       "      <td>1</td>\n",
       "    </tr>\n",
       "    <tr>\n",
       "      <th>1</th>\n",
       "      <td>3</td>\n",
       "      <td>14717500</td>\n",
       "      <td>1</td>\n",
       "    </tr>\n",
       "    <tr>\n",
       "      <th>2</th>\n",
       "      <td>5</td>\n",
       "      <td>13734012</td>\n",
       "      <td>1</td>\n",
       "    </tr>\n",
       "    <tr>\n",
       "      <th>3</th>\n",
       "      <td>13</td>\n",
       "      <td>1606628</td>\n",
       "      <td>1</td>\n",
       "    </tr>\n",
       "    <tr>\n",
       "      <th>4</th>\n",
       "      <td>36</td>\n",
       "      <td>5152028</td>\n",
       "      <td>1</td>\n",
       "    </tr>\n",
       "    <tr>\n",
       "      <th>...</th>\n",
       "      <td>...</td>\n",
       "      <td>...</td>\n",
       "      <td>...</td>\n",
       "    </tr>\n",
       "    <tr>\n",
       "      <th>334</th>\n",
       "      <td>1379</td>\n",
       "      <td>17450673</td>\n",
       "      <td>1</td>\n",
       "    </tr>\n",
       "    <tr>\n",
       "      <th>335</th>\n",
       "      <td>1382</td>\n",
       "      <td>17755060</td>\n",
       "      <td>1</td>\n",
       "    </tr>\n",
       "    <tr>\n",
       "      <th>336</th>\n",
       "      <td>1385</td>\n",
       "      <td>306006</td>\n",
       "      <td>1</td>\n",
       "    </tr>\n",
       "    <tr>\n",
       "      <th>337</th>\n",
       "      <td>1389</td>\n",
       "      <td>23895668</td>\n",
       "      <td>1</td>\n",
       "    </tr>\n",
       "    <tr>\n",
       "      <th>338</th>\n",
       "      <td>1395</td>\n",
       "      <td>17717391</td>\n",
       "      <td>1</td>\n",
       "    </tr>\n",
       "  </tbody>\n",
       "</table>\n",
       "<p>339 rows × 3 columns</p>\n",
       "</div>"
      ],
      "text/plain": [
       "      qid     docno  label\n",
       "0       1  31715818      1\n",
       "1       3  14717500      1\n",
       "2       5  13734012      1\n",
       "3      13   1606628      1\n",
       "4      36   5152028      1\n",
       "..    ...       ...    ...\n",
       "334  1379  17450673      1\n",
       "335  1382  17755060      1\n",
       "336  1385    306006      1\n",
       "337  1389  23895668      1\n",
       "338  1395  17717391      1\n",
       "\n",
       "[339 rows x 3 columns]"
      ]
     },
     "execution_count": 3,
     "metadata": {},
     "output_type": "execute_result"
    }
   ],
   "source": [
    "qrels"
   ]
  },
  {
   "cell_type": "code",
   "execution_count": 4,
   "id": "bf652978",
   "metadata": {},
   "outputs": [
    {
     "data": {
      "text/html": [
       "<div>\n",
       "<style scoped>\n",
       "    .dataframe tbody tr th:only-of-type {\n",
       "        vertical-align: middle;\n",
       "    }\n",
       "\n",
       "    .dataframe tbody tr th {\n",
       "        vertical-align: top;\n",
       "    }\n",
       "\n",
       "    .dataframe thead th {\n",
       "        text-align: right;\n",
       "    }\n",
       "</style>\n",
       "<table border=\"1\" class=\"dataframe\">\n",
       "  <thead>\n",
       "    <tr style=\"text-align: right;\">\n",
       "      <th></th>\n",
       "      <th>qid</th>\n",
       "      <th>docno</th>\n",
       "      <th>label</th>\n",
       "      <th>iter</th>\n",
       "    </tr>\n",
       "  </thead>\n",
       "  <tbody>\n",
       "    <tr>\n",
       "      <th>0</th>\n",
       "      <td>1</td>\n",
       "      <td>31715818</td>\n",
       "      <td>1</td>\n",
       "      <td>0</td>\n",
       "    </tr>\n",
       "    <tr>\n",
       "      <th>1</th>\n",
       "      <td>3</td>\n",
       "      <td>14717500</td>\n",
       "      <td>1</td>\n",
       "      <td>0</td>\n",
       "    </tr>\n",
       "    <tr>\n",
       "      <th>2</th>\n",
       "      <td>5</td>\n",
       "      <td>13734012</td>\n",
       "      <td>1</td>\n",
       "      <td>0</td>\n",
       "    </tr>\n",
       "    <tr>\n",
       "      <th>3</th>\n",
       "      <td>13</td>\n",
       "      <td>1606628</td>\n",
       "      <td>1</td>\n",
       "      <td>0</td>\n",
       "    </tr>\n",
       "    <tr>\n",
       "      <th>4</th>\n",
       "      <td>36</td>\n",
       "      <td>5152028</td>\n",
       "      <td>1</td>\n",
       "      <td>0</td>\n",
       "    </tr>\n",
       "    <tr>\n",
       "      <th>...</th>\n",
       "      <td>...</td>\n",
       "      <td>...</td>\n",
       "      <td>...</td>\n",
       "      <td>...</td>\n",
       "    </tr>\n",
       "    <tr>\n",
       "      <th>334</th>\n",
       "      <td>1379</td>\n",
       "      <td>17450673</td>\n",
       "      <td>1</td>\n",
       "      <td>0</td>\n",
       "    </tr>\n",
       "    <tr>\n",
       "      <th>335</th>\n",
       "      <td>1382</td>\n",
       "      <td>17755060</td>\n",
       "      <td>1</td>\n",
       "      <td>0</td>\n",
       "    </tr>\n",
       "    <tr>\n",
       "      <th>336</th>\n",
       "      <td>1385</td>\n",
       "      <td>306006</td>\n",
       "      <td>1</td>\n",
       "      <td>0</td>\n",
       "    </tr>\n",
       "    <tr>\n",
       "      <th>337</th>\n",
       "      <td>1389</td>\n",
       "      <td>23895668</td>\n",
       "      <td>1</td>\n",
       "      <td>0</td>\n",
       "    </tr>\n",
       "    <tr>\n",
       "      <th>338</th>\n",
       "      <td>1395</td>\n",
       "      <td>17717391</td>\n",
       "      <td>1</td>\n",
       "      <td>0</td>\n",
       "    </tr>\n",
       "  </tbody>\n",
       "</table>\n",
       "<p>339 rows × 4 columns</p>\n",
       "</div>"
      ],
      "text/plain": [
       "      qid     docno  label  iter\n",
       "0       1  31715818      1     0\n",
       "1       3  14717500      1     0\n",
       "2       5  13734012      1     0\n",
       "3      13   1606628      1     0\n",
       "4      36   5152028      1     0\n",
       "..    ...       ...    ...   ...\n",
       "334  1379  17450673      1     0\n",
       "335  1382  17755060      1     0\n",
       "336  1385    306006      1     0\n",
       "337  1389  23895668      1     0\n",
       "338  1395  17717391      1     0\n",
       "\n",
       "[339 rows x 4 columns]"
      ]
     },
     "execution_count": 4,
     "metadata": {},
     "output_type": "execute_result"
    }
   ],
   "source": [
    "# transform to TREC format\n",
    "# add a iter column all set to 0\n",
    "qrels[\"iter\"] = 0\n",
    "qrels"
   ]
  },
  {
   "cell_type": "code",
   "execution_count": null,
   "id": "8b364200",
   "metadata": {},
   "outputs": [
    {
     "data": {
      "text/html": [
       "<div>\n",
       "<style scoped>\n",
       "    .dataframe tbody tr th:only-of-type {\n",
       "        vertical-align: middle;\n",
       "    }\n",
       "\n",
       "    .dataframe tbody tr th {\n",
       "        vertical-align: top;\n",
       "    }\n",
       "\n",
       "    .dataframe thead th {\n",
       "        text-align: right;\n",
       "    }\n",
       "</style>\n",
       "<table border=\"1\" class=\"dataframe\">\n",
       "  <thead>\n",
       "    <tr style=\"text-align: right;\">\n",
       "      <th></th>\n",
       "      <th>qid</th>\n",
       "      <th>iter</th>\n",
       "      <th>docno</th>\n",
       "      <th>label</th>\n",
       "    </tr>\n",
       "  </thead>\n",
       "  <tbody>\n",
       "    <tr>\n",
       "      <th>0</th>\n",
       "      <td>1</td>\n",
       "      <td>0</td>\n",
       "      <td>31715818</td>\n",
       "      <td>1</td>\n",
       "    </tr>\n",
       "    <tr>\n",
       "      <th>1</th>\n",
       "      <td>3</td>\n",
       "      <td>0</td>\n",
       "      <td>14717500</td>\n",
       "      <td>1</td>\n",
       "    </tr>\n",
       "    <tr>\n",
       "      <th>2</th>\n",
       "      <td>5</td>\n",
       "      <td>0</td>\n",
       "      <td>13734012</td>\n",
       "      <td>1</td>\n",
       "    </tr>\n",
       "    <tr>\n",
       "      <th>3</th>\n",
       "      <td>13</td>\n",
       "      <td>0</td>\n",
       "      <td>1606628</td>\n",
       "      <td>1</td>\n",
       "    </tr>\n",
       "    <tr>\n",
       "      <th>4</th>\n",
       "      <td>36</td>\n",
       "      <td>0</td>\n",
       "      <td>5152028</td>\n",
       "      <td>1</td>\n",
       "    </tr>\n",
       "    <tr>\n",
       "      <th>...</th>\n",
       "      <td>...</td>\n",
       "      <td>...</td>\n",
       "      <td>...</td>\n",
       "      <td>...</td>\n",
       "    </tr>\n",
       "    <tr>\n",
       "      <th>332</th>\n",
       "      <td>1379</td>\n",
       "      <td>0</td>\n",
       "      <td>27123743</td>\n",
       "      <td>1</td>\n",
       "    </tr>\n",
       "    <tr>\n",
       "      <th>335</th>\n",
       "      <td>1382</td>\n",
       "      <td>0</td>\n",
       "      <td>17755060</td>\n",
       "      <td>1</td>\n",
       "    </tr>\n",
       "    <tr>\n",
       "      <th>336</th>\n",
       "      <td>1385</td>\n",
       "      <td>0</td>\n",
       "      <td>306006</td>\n",
       "      <td>1</td>\n",
       "    </tr>\n",
       "    <tr>\n",
       "      <th>337</th>\n",
       "      <td>1389</td>\n",
       "      <td>0</td>\n",
       "      <td>23895668</td>\n",
       "      <td>1</td>\n",
       "    </tr>\n",
       "    <tr>\n",
       "      <th>338</th>\n",
       "      <td>1395</td>\n",
       "      <td>0</td>\n",
       "      <td>17717391</td>\n",
       "      <td>1</td>\n",
       "    </tr>\n",
       "  </tbody>\n",
       "</table>\n",
       "<p>339 rows × 4 columns</p>\n",
       "</div>"
      ],
      "text/plain": [
       "      qid  iter     docno  label\n",
       "0       1     0  31715818      1\n",
       "1       3     0  14717500      1\n",
       "2       5     0  13734012      1\n",
       "3      13     0   1606628      1\n",
       "4      36     0   5152028      1\n",
       "..    ...   ...       ...    ...\n",
       "332  1379     0  27123743      1\n",
       "335  1382     0  17755060      1\n",
       "336  1385     0    306006      1\n",
       "337  1389     0  23895668      1\n",
       "338  1395     0  17717391      1\n",
       "\n",
       "[339 rows x 4 columns]"
      ]
     },
     "execution_count": 5,
     "metadata": {},
     "output_type": "execute_result"
    }
   ],
   "source": [
    "# new order: qid, iter, docno, label\n",
    "qrels = qrels[[\"qid\", \"iter\", \"docno\", \"label\"]]\n",
    "qrels = qrels.sort_values(by=[\"qid\", \"iter\", \"docno\"])\n"
   ]
  },
  {
   "cell_type": "code",
   "execution_count": 6,
   "id": "c39bf344",
   "metadata": {},
   "outputs": [],
   "source": [
    "# save to text with space separator\n",
    "qrels.to_csv(\"test.trec\", sep=\" \", index=False, header=False)"
   ]
  },
  {
   "cell_type": "code",
   "execution_count": 1,
   "id": "5173ae0a",
   "metadata": {},
   "outputs": [],
   "source": [
    "def process_qrels(input_file, output_file):\n",
    "    import pandas as pd\n",
    "\n",
    "    # Read the input file\n",
    "    qrels = pd.read_csv(input_file, sep=\"\\t\", header=0, names=[\"qid\", \"docno\", \"label\"])\n",
    "    \n",
    "    # Add a column 'iter' with all values set to 0\n",
    "    qrels[\"iter\"] = 0\n",
    "    \n",
    "    # Reorder columns and sort the dataframe\n",
    "    qrels = qrels[[\"qid\", \"iter\", \"docno\", \"label\"]]\n",
    "    qrels = qrels.sort_values(by=[\"qid\", \"iter\", \"docno\"])\n",
    "    \n",
    "    # Save the processed dataframe to the output file\n",
    "    qrels.to_csv(output_file, sep=\" \", index=False, header=False)"
   ]
  },
  {
   "cell_type": "code",
   "execution_count": 2,
   "id": "d2137269",
   "metadata": {},
   "outputs": [],
   "source": [
    "process_qrels(\"nfcorpus-qrels/test.tsv\", \"nfcorpus-qrels/test.trec\")"
   ]
  },
  {
   "cell_type": "code",
   "execution_count": 4,
   "id": "ee816db3",
   "metadata": {},
   "outputs": [],
   "source": [
    "process_qrels(\"nfcorpus/qrels/dev.tsv\", \"nfcorpus/qrels/dev.trec\")"
   ]
  },
  {
   "cell_type": "markdown",
   "id": "ea56d60c",
   "metadata": {},
   "source": [
    "## Process SCIDOCS to smaller dataset"
   ]
  },
  {
   "cell_type": "code",
   "execution_count": 7,
   "id": "ee642fe5",
   "metadata": {},
   "outputs": [
    {
     "name": "stdout",
     "output_type": "stream",
     "text": [
      "queries: 1000\n"
     ]
    },
    {
     "data": {
      "text/html": [
       "<div>\n",
       "<style scoped>\n",
       "    .dataframe tbody tr th:only-of-type {\n",
       "        vertical-align: middle;\n",
       "    }\n",
       "\n",
       "    .dataframe tbody tr th {\n",
       "        vertical-align: top;\n",
       "    }\n",
       "\n",
       "    .dataframe thead th {\n",
       "        text-align: right;\n",
       "    }\n",
       "</style>\n",
       "<table border=\"1\" class=\"dataframe\">\n",
       "  <thead>\n",
       "    <tr style=\"text-align: right;\">\n",
       "      <th></th>\n",
       "      <th>_id</th>\n",
       "      <th>text</th>\n",
       "      <th>metadata</th>\n",
       "    </tr>\n",
       "  </thead>\n",
       "  <tbody>\n",
       "    <tr>\n",
       "      <th>0</th>\n",
       "      <td>78495383450e02c5fe817e408726134b3084905d</td>\n",
       "      <td>A Direct Search Method to solve Economic Dispa...</td>\n",
       "      <td>{'authors': ['50306438', '15303316', '1976596'...</td>\n",
       "    </tr>\n",
       "    <tr>\n",
       "      <th>1</th>\n",
       "      <td>7dcb308b9292a8bc87d6f7793d2ca5e0e19dfa40</td>\n",
       "      <td>Bearish-Bullish Sentiment Analysis on Financia...</td>\n",
       "      <td>{'authors': ['2243444', '32946276', '3349721']...</td>\n",
       "    </tr>\n",
       "    <tr>\n",
       "      <th>2</th>\n",
       "      <td>8c872ecd87945e71fcd9fa1b6cb1133cfe805bf2</td>\n",
       "      <td>Predicting defects in SAP Java code: An experi...</td>\n",
       "      <td>{'authors': ['1816608', '2031097', '39496137',...</td>\n",
       "    </tr>\n",
       "    <tr>\n",
       "      <th>3</th>\n",
       "      <td>3a63667284dc8b9687ed1620406030bfe39af3c9</td>\n",
       "      <td>Active-Metric Learning for Classification of R...</td>\n",
       "      <td>{'authors': ['2447432', '2818592', '15760889']...</td>\n",
       "    </tr>\n",
       "    <tr>\n",
       "      <th>4</th>\n",
       "      <td>071f47b7bc5830643e31dbed82e0375bf9b26559</td>\n",
       "      <td>Ad Hoc Retrieval Experiments Using WordNet and...</td>\n",
       "      <td>{'authors': ['1921454', '37090109', '2911717',...</td>\n",
       "    </tr>\n",
       "  </tbody>\n",
       "</table>\n",
       "</div>"
      ],
      "text/plain": [
       "                                        _id  \\\n",
       "0  78495383450e02c5fe817e408726134b3084905d   \n",
       "1  7dcb308b9292a8bc87d6f7793d2ca5e0e19dfa40   \n",
       "2  8c872ecd87945e71fcd9fa1b6cb1133cfe805bf2   \n",
       "3  3a63667284dc8b9687ed1620406030bfe39af3c9   \n",
       "4  071f47b7bc5830643e31dbed82e0375bf9b26559   \n",
       "\n",
       "                                                text  \\\n",
       "0  A Direct Search Method to solve Economic Dispa...   \n",
       "1  Bearish-Bullish Sentiment Analysis on Financia...   \n",
       "2  Predicting defects in SAP Java code: An experi...   \n",
       "3  Active-Metric Learning for Classification of R...   \n",
       "4  Ad Hoc Retrieval Experiments Using WordNet and...   \n",
       "\n",
       "                                            metadata  \n",
       "0  {'authors': ['50306438', '15303316', '1976596'...  \n",
       "1  {'authors': ['2243444', '32946276', '3349721']...  \n",
       "2  {'authors': ['1816608', '2031097', '39496137',...  \n",
       "3  {'authors': ['2447432', '2818592', '15760889']...  \n",
       "4  {'authors': ['1921454', '37090109', '2911717',...  "
      ]
     },
     "metadata": {},
     "output_type": "display_data"
    },
    {
     "name": "stdout",
     "output_type": "stream",
     "text": [
      "docs: 25657\n"
     ]
    },
    {
     "data": {
      "text/html": [
       "<div>\n",
       "<style scoped>\n",
       "    .dataframe tbody tr th:only-of-type {\n",
       "        vertical-align: middle;\n",
       "    }\n",
       "\n",
       "    .dataframe tbody tr th {\n",
       "        vertical-align: top;\n",
       "    }\n",
       "\n",
       "    .dataframe thead th {\n",
       "        text-align: right;\n",
       "    }\n",
       "</style>\n",
       "<table border=\"1\" class=\"dataframe\">\n",
       "  <thead>\n",
       "    <tr style=\"text-align: right;\">\n",
       "      <th></th>\n",
       "      <th>_id</th>\n",
       "      <th>title</th>\n",
       "      <th>text</th>\n",
       "      <th>metadata</th>\n",
       "    </tr>\n",
       "  </thead>\n",
       "  <tbody>\n",
       "    <tr>\n",
       "      <th>0</th>\n",
       "      <td>632589828c8b9fca2c3a59e97451fde8fa7d188d</td>\n",
       "      <td>A hybrid of genetic algorithm and particle swa...</td>\n",
       "      <td>An evolutionary recurrent network which automa...</td>\n",
       "      <td>{'authors': ['1725986'], 'year': 2004, 'cited_...</td>\n",
       "    </tr>\n",
       "    <tr>\n",
       "      <th>1</th>\n",
       "      <td>86e87db2dab958f1bd5877dc7d5b8105d6e31e46</td>\n",
       "      <td>A Hybrid EP and SQP for Dynamic Economic Dispa...</td>\n",
       "      <td>Dynamic economic dispatch (DED) is one of the ...</td>\n",
       "      <td>{'authors': ['30728239', '49115828', '1857220'...</td>\n",
       "    </tr>\n",
       "    <tr>\n",
       "      <th>2</th>\n",
       "      <td>2a047d8c4c2a4825e0f0305294e7da14f8de6fd3</td>\n",
       "      <td>Genetic Fuzzy Systems - Evolutionary Tuning an...</td>\n",
       "      <td>It's not surprisingly when entering this site ...</td>\n",
       "      <td>{'authors': ['1685850', '1699069', '34695695',...</td>\n",
       "    </tr>\n",
       "    <tr>\n",
       "      <th>3</th>\n",
       "      <td>506172b0e0dd4269bdcfe96dda9ea9d8602bbfb6</td>\n",
       "      <td>A modified particle swarm optimizer</td>\n",
       "      <td>In this paper, we introduce a new parameter, c...</td>\n",
       "      <td>{'authors': ['8385459', '4298485'], 'year': 19...</td>\n",
       "    </tr>\n",
       "    <tr>\n",
       "      <th>4</th>\n",
       "      <td>51317b6082322a96b4570818b7a5ec8b2e330f2f</td>\n",
       "      <td>Identification and control of dynamic systems ...</td>\n",
       "      <td>This paper proposes a recurrent fuzzy neural n...</td>\n",
       "      <td>{'authors': ['34448377', '2062864'], 'year': 2...</td>\n",
       "    </tr>\n",
       "  </tbody>\n",
       "</table>\n",
       "</div>"
      ],
      "text/plain": [
       "                                        _id  \\\n",
       "0  632589828c8b9fca2c3a59e97451fde8fa7d188d   \n",
       "1  86e87db2dab958f1bd5877dc7d5b8105d6e31e46   \n",
       "2  2a047d8c4c2a4825e0f0305294e7da14f8de6fd3   \n",
       "3  506172b0e0dd4269bdcfe96dda9ea9d8602bbfb6   \n",
       "4  51317b6082322a96b4570818b7a5ec8b2e330f2f   \n",
       "\n",
       "                                               title  \\\n",
       "0  A hybrid of genetic algorithm and particle swa...   \n",
       "1  A Hybrid EP and SQP for Dynamic Economic Dispa...   \n",
       "2  Genetic Fuzzy Systems - Evolutionary Tuning an...   \n",
       "3                A modified particle swarm optimizer   \n",
       "4  Identification and control of dynamic systems ...   \n",
       "\n",
       "                                                text  \\\n",
       "0  An evolutionary recurrent network which automa...   \n",
       "1  Dynamic economic dispatch (DED) is one of the ...   \n",
       "2  It's not surprisingly when entering this site ...   \n",
       "3  In this paper, we introduce a new parameter, c...   \n",
       "4  This paper proposes a recurrent fuzzy neural n...   \n",
       "\n",
       "                                            metadata  \n",
       "0  {'authors': ['1725986'], 'year': 2004, 'cited_...  \n",
       "1  {'authors': ['30728239', '49115828', '1857220'...  \n",
       "2  {'authors': ['1685850', '1699069', '34695695',...  \n",
       "3  {'authors': ['8385459', '4298485'], 'year': 19...  \n",
       "4  {'authors': ['34448377', '2062864'], 'year': 2...  "
      ]
     },
     "metadata": {},
     "output_type": "display_data"
    }
   ],
   "source": [
    "import json\n",
    "import pandas as pd\n",
    "docs = []\n",
    "queries = []\n",
    "with open(\"scidocs/corpus.jsonl\", \"r\") as f:\n",
    "    for line in f:\n",
    "        docs.append(json.loads(line))\n",
    "\n",
    "with open(\"scidocs/queries.jsonl\", \"r\") as f:\n",
    "    for line in f:\n",
    "        queries.append(json.loads(line))\n",
    "queries = pd.DataFrame(queries)\n",
    "print(f\"queries: {len(queries)}\")\n",
    "display(queries.head())\n",
    "\n",
    "print(f\"docs: {len(docs)}\")\n",
    "docs = pd.DataFrame(docs)\n",
    "display(docs.head())"
   ]
  },
  {
   "cell_type": "code",
   "execution_count": 17,
   "id": "491c054a",
   "metadata": {},
   "outputs": [
    {
     "name": "stdout",
     "output_type": "stream",
     "text": [
      "positive_doc_ids: 4020\n"
     ]
    }
   ],
   "source": [
    "scidocs_qrels = pd.read_csv(\"scidocs/qrels/test.tsv\", sep=\"\\t\", header=0, names=[\"qid\", \"docno\", \"label\"])\n",
    "\n",
    "positive_doc_ids = set(scidocs_qrels[scidocs_qrels[\"label\"] == 1][\"docno\"].values)\n",
    "print(f\"positive_doc_ids: {len(positive_doc_ids)}\")\n",
    "\n",
    "new_qrels = [] # only keep rows with docno in positive_doc_ids\n",
    "for index, row in scidocs_qrels.iterrows():\n",
    "    if row[\"docno\"] in positive_doc_ids:\n",
    "        new_qrels.append(row)\n",
    "scidocs_qrels = pd.DataFrame(new_qrels)\n",
    "\n",
    "# save scidocs_qrels to .tsv with header qid, docno, label\n",
    "scidocs_qrels = scidocs_qrels[[\"qid\", \"docno\", \"label\"]]\n",
    "scidocs_qrels = scidocs_qrels.sort_values(by=[\"qid\", \"docno\"])\n",
    "scidocs_qrels.to_csv(\"scidocs/qrels/cut.tsv\", sep=\"\\t\", index=False, header=True)\n",
    "\n",
    "# transform to TREC format\n",
    "\n",
    "scidocs_qrels[\"iter\"] = 0\n",
    "scidocs_qrels = scidocs_qrels[[\"qid\", \"iter\", \"docno\", \"label\"]]\n",
    "scidocs_qrels = scidocs_qrels.sort_values(by=[\"qid\", \"iter\", \"docno\"])\n",
    "scidocs_qrels.to_csv(\"scidocs/qrels/cut.trec\", sep=\" \", index=False, header=False)"
   ]
  },
  {
   "cell_type": "code",
   "execution_count": 43,
   "id": "525a72cb",
   "metadata": {},
   "outputs": [],
   "source": [
    "def shrink_dataset(input_path, output_path):\n",
    "    \"\"\"\n",
    "    Create a smaller version of the given dataset by keeping only documents and queries in qrels.\n",
    "    \n",
    "    Args:\n",
    "        input_path (str): Path to input SCIDOCS directory\n",
    "        output_path (str): Path to output directory for smaller dataset\n",
    "    \"\"\"\n",
    "    # Read qrels\n",
    "    dtypes = {\"qid\": str, \"docno\": str, \"label\": int}\n",
    "    cut_qrels = pd.read_csv(f\"{input_path}/qrels/cut.tsv\", sep=\"\\t\", dtype=dtypes, header=0, names=[\"qid\", \"docno\", \"label\"])\n",
    "    \n",
    "    # Get unique qids and docnos\n",
    "    qids = set(cut_qrels[\"qid\"].values)\n",
    "    docnos = set(cut_qrels[\"docno\"].values)\n",
    "    print(f\"qids: {len(qids)}\")\n",
    "    print(f\"docnos: {len(docnos)}\")\n",
    "\n",
    "    # Filter queries\n",
    "    cut_queries = []\n",
    "    with open(f\"{input_path}/queries.jsonl\", \"r\") as f:\n",
    "        for line in f:\n",
    "            query = json.loads(line)\n",
    "            if query[\"_id\"] in qids:\n",
    "                cut_queries.append(query)\n",
    "\n",
    "    # Filter documents\n",
    "    cut_docs = []\n",
    "    with open(f\"{input_path}/corpus.jsonl\", \"r\") as f:\n",
    "        for line in f:\n",
    "            doc = json.loads(line)\n",
    "            if doc[\"_id\"] in docnos:\n",
    "                cut_docs.append(doc)\n",
    "\n",
    "    # Save filtered queries and documents\n",
    "    with open(f\"{output_path}/queries_cut.jsonl\", \"w\") as f:\n",
    "        for query in cut_queries:\n",
    "            f.write(json.dumps(query) + \"\\n\")\n",
    "            \n",
    "    with open(f\"{output_path}/corpus_cut.jsonl\", \"w\") as f:\n",
    "        for doc in cut_docs:\n",
    "            f.write(json.dumps(doc) + \"\\n\")\n"
   ]
  },
  {
   "cell_type": "code",
   "execution_count": 44,
   "id": "dd53f909",
   "metadata": {},
   "outputs": [
    {
     "name": "stdout",
     "output_type": "stream",
     "text": [
      "qids: 2089\n",
      "docnos: 4000\n"
     ]
    }
   ],
   "source": [
    "# shrink fiqa\n",
    "shrink_dataset(\"fiqa\", \"fiqa\")"
   ]
  },
  {
   "cell_type": "markdown",
   "id": "2533deb8",
   "metadata": {},
   "source": [
    "## Process FiQA to smaller dataset"
   ]
  },
  {
   "cell_type": "code",
   "execution_count": 33,
   "id": "68c1fa36",
   "metadata": {},
   "outputs": [
    {
     "name": "stdout",
     "output_type": "stream",
     "text": [
      "length of total docs: 57600\n"
     ]
    }
   ],
   "source": [
    "corpus_path = \"/home/guest/r12922050/GitHub/d2qplus/data/fiqa/corpus.jsonl\"\n",
    "import json\n",
    "with open(corpus_path, \"r\") as f:\n",
    "    docs = [json.loads(line) for line in f]\n",
    "print(f\"length of total docs: {len(docs)}\")"
   ]
  },
  {
   "cell_type": "code",
   "execution_count": 32,
   "id": "192fd2c8",
   "metadata": {},
   "outputs": [
    {
     "name": "stdout",
     "output_type": "stream",
     "text": [
      "length of empty docs: 38\n",
      "length of docs with text: 57600\n"
     ]
    }
   ],
   "source": [
    "empty_doc_ids = set()\n",
    "has_text_docs = []\n",
    "for doc in docs:\n",
    "    if doc['text'] is None or doc['text'] == \"\":\n",
    "        empty_doc_ids.add(doc['_id'])\n",
    "    else:\n",
    "        has_text_docs.append(doc)\n",
    "print(f\"length of empty docs: {len(empty_doc_ids)}\")\n",
    "print(f\"length of docs with text: {len(has_text_docs)}\")\n",
    "\n",
    "# save has_text_docs to fiqa/corpus.jsonl\n",
    "with open(\"/home/guest/r12922050/GitHub/d2qplus/data/fiqa/corpus.jsonl\", \"w\") as f:\n",
    "    for doc in has_text_docs:\n",
    "        f.write(json.dumps(doc) + \"\\n\")"
   ]
  },
  {
   "cell_type": "code",
   "execution_count": 34,
   "id": "4302cde5",
   "metadata": {},
   "outputs": [
    {
     "name": "stdout",
     "output_type": "stream",
     "text": [
      "length of test_qid_set: 648\n"
     ]
    },
    {
     "data": {
      "application/vnd.microsoft.datawrangler.viewer.v0+json": {
       "columns": [
        {
         "name": "index",
         "rawType": "int64",
         "type": "integer"
        },
        {
         "name": "query-id",
         "rawType": "int64",
         "type": "integer"
        },
        {
         "name": "corpus-id",
         "rawType": "int64",
         "type": "integer"
        },
        {
         "name": "score",
         "rawType": "int64",
         "type": "integer"
        }
       ],
       "ref": "307e41ad-816c-4e5e-9a1e-ddf535d58384",
       "rows": [
        [
         "0",
         "8",
         "566392",
         "1"
        ],
        [
         "1",
         "8",
         "65404",
         "1"
        ],
        [
         "2",
         "15",
         "325273",
         "1"
        ],
        [
         "3",
         "18",
         "88124",
         "1"
        ],
        [
         "4",
         "26",
         "285255",
         "1"
        ],
        [
         "5",
         "26",
         "350819",
         "1"
        ],
        [
         "6",
         "34",
         "599545",
         "1"
        ],
        [
         "7",
         "42",
         "272709",
         "1"
        ],
        [
         "8",
         "42",
         "327263",
         "1"
        ],
        [
         "9",
         "42",
         "331981",
         "1"
        ],
        [
         "10",
         "56",
         "572690",
         "1"
        ],
        [
         "11",
         "68",
         "19183",
         "1"
        ],
        [
         "12",
         "89",
         "413229",
         "1"
        ],
        [
         "13",
         "89",
         "590102",
         "1"
        ],
        [
         "14",
         "89",
         "268026",
         "1"
        ],
        [
         "15",
         "89",
         "248624",
         "1"
        ],
        [
         "16",
         "89",
         "508754",
         "1"
        ],
        [
         "17",
         "89",
         "64556",
         "1"
        ],
        [
         "18",
         "90",
         "31793",
         "1"
        ],
        [
         "19",
         "94",
         "245447",
         "1"
        ],
        [
         "20",
         "98",
         "575929",
         "1"
        ],
        [
         "21",
         "98",
         "527522",
         "1"
        ],
        [
         "22",
         "104",
         "575869",
         "1"
        ],
        [
         "23",
         "104",
         "523158",
         "1"
        ],
        [
         "24",
         "106",
         "76695",
         "1"
        ],
        [
         "25",
         "109",
         "73427",
         "1"
        ],
        [
         "26",
         "475",
         "366761",
         "1"
        ],
        [
         "27",
         "503",
         "367641",
         "1"
        ],
        [
         "28",
         "504",
         "500755",
         "1"
        ],
        [
         "29",
         "504",
         "344203",
         "1"
        ],
        [
         "30",
         "504",
         "498751",
         "1"
        ],
        [
         "31",
         "515",
         "372909",
         "1"
        ],
        [
         "32",
         "529",
         "510701",
         "1"
        ],
        [
         "33",
         "547",
         "6349",
         "1"
        ],
        [
         "34",
         "547",
         "278629",
         "1"
        ],
        [
         "35",
         "549",
         "214024",
         "1"
        ],
        [
         "36",
         "559",
         "246459",
         "1"
        ],
        [
         "37",
         "570",
         "363591",
         "1"
        ],
        [
         "38",
         "585",
         "140226",
         "1"
        ],
        [
         "39",
         "585",
         "552375",
         "1"
        ],
        [
         "40",
         "588",
         "570546",
         "1"
        ],
        [
         "41",
         "588",
         "203710",
         "1"
        ],
        [
         "42",
         "594",
         "377322",
         "1"
        ],
        [
         "43",
         "594",
         "534059",
         "1"
        ],
        [
         "44",
         "603",
         "456440",
         "1"
        ],
        [
         "45",
         "604",
         "451443",
         "1"
        ],
        [
         "46",
         "604",
         "231947",
         "1"
        ],
        [
         "47",
         "604",
         "261622",
         "1"
        ],
        [
         "48",
         "620",
         "331332",
         "1"
        ],
        [
         "49",
         "620",
         "417301",
         "1"
        ]
       ],
       "shape": {
        "columns": 3,
        "rows": 1705
       }
      },
      "text/html": [
       "<div>\n",
       "<style scoped>\n",
       "    .dataframe tbody tr th:only-of-type {\n",
       "        vertical-align: middle;\n",
       "    }\n",
       "\n",
       "    .dataframe tbody tr th {\n",
       "        vertical-align: top;\n",
       "    }\n",
       "\n",
       "    .dataframe thead th {\n",
       "        text-align: right;\n",
       "    }\n",
       "</style>\n",
       "<table border=\"1\" class=\"dataframe\">\n",
       "  <thead>\n",
       "    <tr style=\"text-align: right;\">\n",
       "      <th></th>\n",
       "      <th>query-id</th>\n",
       "      <th>corpus-id</th>\n",
       "      <th>score</th>\n",
       "    </tr>\n",
       "  </thead>\n",
       "  <tbody>\n",
       "    <tr>\n",
       "      <th>0</th>\n",
       "      <td>8</td>\n",
       "      <td>566392</td>\n",
       "      <td>1</td>\n",
       "    </tr>\n",
       "    <tr>\n",
       "      <th>1</th>\n",
       "      <td>8</td>\n",
       "      <td>65404</td>\n",
       "      <td>1</td>\n",
       "    </tr>\n",
       "    <tr>\n",
       "      <th>2</th>\n",
       "      <td>15</td>\n",
       "      <td>325273</td>\n",
       "      <td>1</td>\n",
       "    </tr>\n",
       "    <tr>\n",
       "      <th>3</th>\n",
       "      <td>18</td>\n",
       "      <td>88124</td>\n",
       "      <td>1</td>\n",
       "    </tr>\n",
       "    <tr>\n",
       "      <th>4</th>\n",
       "      <td>26</td>\n",
       "      <td>285255</td>\n",
       "      <td>1</td>\n",
       "    </tr>\n",
       "    <tr>\n",
       "      <th>...</th>\n",
       "      <td>...</td>\n",
       "      <td>...</td>\n",
       "      <td>...</td>\n",
       "    </tr>\n",
       "    <tr>\n",
       "      <th>1700</th>\n",
       "      <td>11039</td>\n",
       "      <td>330058</td>\n",
       "      <td>1</td>\n",
       "    </tr>\n",
       "    <tr>\n",
       "      <th>1701</th>\n",
       "      <td>11039</td>\n",
       "      <td>91183</td>\n",
       "      <td>1</td>\n",
       "    </tr>\n",
       "    <tr>\n",
       "      <th>1702</th>\n",
       "      <td>11054</td>\n",
       "      <td>155053</td>\n",
       "      <td>1</td>\n",
       "    </tr>\n",
       "    <tr>\n",
       "      <th>1703</th>\n",
       "      <td>11054</td>\n",
       "      <td>321015</td>\n",
       "      <td>1</td>\n",
       "    </tr>\n",
       "    <tr>\n",
       "      <th>1704</th>\n",
       "      <td>11088</td>\n",
       "      <td>437100</td>\n",
       "      <td>1</td>\n",
       "    </tr>\n",
       "  </tbody>\n",
       "</table>\n",
       "<p>1705 rows × 3 columns</p>\n",
       "</div>"
      ],
      "text/plain": [
       "      query-id  corpus-id  score\n",
       "0            8     566392      1\n",
       "1            8      65404      1\n",
       "2           15     325273      1\n",
       "3           18      88124      1\n",
       "4           26     285255      1\n",
       "...        ...        ...    ...\n",
       "1700     11039     330058      1\n",
       "1701     11039      91183      1\n",
       "1702     11054     155053      1\n",
       "1703     11054     321015      1\n",
       "1704     11088     437100      1\n",
       "\n",
       "[1705 rows x 3 columns]"
      ]
     },
     "execution_count": 34,
     "metadata": {},
     "output_type": "execute_result"
    }
   ],
   "source": [
    "import pandas as pd\n",
    "test_qrels = pd.read_csv(\"/home/guest/r12922050/GitHub/d2qplus/data/fiqa/qrels/test.tsv\", sep=\"\\t\")\n",
    "\n",
    "test_qid_set = set(test_qrels[\"query-id\"].values)\n",
    "print(f\"length of test_qid_set: {len(test_qid_set)}\")\n",
    "test_qrels"
   ]
  },
  {
   "cell_type": "code",
   "execution_count": 35,
   "id": "ba0e2fdb",
   "metadata": {},
   "outputs": [
    {
     "data": {
      "text/plain": [
       "1705"
      ]
     },
     "execution_count": 35,
     "metadata": {},
     "output_type": "execute_result"
    }
   ],
   "source": [
    "positive_doc_ids = set(test_qrels[test_qrels[\"score\"] == 1][\"corpus-id\"].astype(str).values) # type cast because positive_doc_ids are integers (auto-detected by pandas)\n",
    "len(positive_doc_ids)"
   ]
  },
  {
   "cell_type": "markdown",
   "id": "b5b5b169",
   "metadata": {},
   "source": [
    "代表 648 個 testing queries 對應到 1706 個 documents"
   ]
  },
  {
   "cell_type": "markdown",
   "id": "8b29b4d3",
   "metadata": {},
   "source": [
    "控制 small dataset 大小為 5000 documents (因此扣除 1706 positive documents, 要再 random sample 3294 個 negative documents)"
   ]
  },
  {
   "cell_type": "code",
   "execution_count": 36,
   "id": "48d94e09",
   "metadata": {},
   "outputs": [
    {
     "name": "stdout",
     "output_type": "stream",
     "text": [
      "length of split_docs: 1705\n"
     ]
    }
   ],
   "source": [
    "docid2doc = {doc[\"_id\"]: doc for doc in docs}\n",
    "split_docs = []\n",
    "for doc_id in positive_doc_ids:\n",
    "    if docid2doc[doc_id][\"text\"] == \"\":\n",
    "        print(f\"doc_id {doc_id} has empty text, skipping\")\n",
    "        continue\n",
    "    if doc_id in docid2doc:\n",
    "        split_docs.append(docid2doc[doc_id])\n",
    "print(f\"length of split_docs: {len(split_docs)}\")"
   ]
  },
  {
   "cell_type": "code",
   "execution_count": 37,
   "id": "98e4ac1a",
   "metadata": {},
   "outputs": [
    {
     "name": "stdout",
     "output_type": "stream",
     "text": [
      "length of split_docs after sampling: 5000\n"
     ]
    },
    {
     "name": "stderr",
     "output_type": "stream",
     "text": [
      "/tmp/ipykernel_3243774/645757180.py:10: DeprecationWarning: Sampling from a set deprecated\n",
      "since Python 3.9 and will be removed in a subsequent version.\n",
      "  sampled_docs = random.sample(docid_left, GOAL_DOC_NUM - len(positive_doc_ids))\n"
     ]
    }
   ],
   "source": [
    "# start sampling\n",
    "import random\n",
    "\n",
    "GOAL_DOC_NUM = 5000 \n",
    "random.seed(24)  # for reproducibility\n",
    "\n",
    "docid_left = set(docid2doc.keys()) - positive_doc_ids\n",
    "assert len(docid_left) == len(docid2doc) - len(positive_doc_ids)\n",
    "\n",
    "sampled_docs = random.sample(docid_left, GOAL_DOC_NUM - len(positive_doc_ids))\n",
    "for doc_id in sampled_docs:\n",
    "    if docid2doc[doc_id]['text'] != \"\":\n",
    "        split_docs.append(docid2doc[doc_id])\n",
    "print(f\"length of split_docs after sampling: {len(split_docs)}\")"
   ]
  },
  {
   "cell_type": "code",
   "execution_count": 38,
   "id": "4aba33b6",
   "metadata": {},
   "outputs": [],
   "source": [
    "with open(f\"/home/guest/r12922050/GitHub/d2qplus/data/fiqa-{GOAL_DOC_NUM}/corpus.jsonl\", \"w\") as f:\n",
    "    for doc in split_docs:\n",
    "        f.write(json.dumps(doc) + \"\\n\")"
   ]
  },
  {
   "cell_type": "markdown",
   "id": "5ed07e8a",
   "metadata": {},
   "source": [
    "test.tsv to test.trec"
   ]
  },
  {
   "cell_type": "code",
   "execution_count": 40,
   "id": "5d46d991",
   "metadata": {},
   "outputs": [],
   "source": [
    "test_csv = pd.read_csv(\"/home/guest/r12922050/GitHub/d2qplus/data/fiqa-5000/qrels/test.tsv\", sep=\"\\t\")\n",
    "test_trec = []\n",
    "\n",
    "for idx, row in test_csv.iterrows():\n",
    "    qid = row[\"query-id\"]\n",
    "    docno = row[\"corpus-id\"]\n",
    "    label = row[\"score\"]\n",
    "    test_trec.append(f\"{qid} 0 {docno} {label}\")\n",
    "with open(\"/home/guest/r12922050/GitHub/d2qplus/data/fiqa-5000/qrels/test.trec\", \"w\") as f:\n",
    "    for line in test_trec:\n",
    "        f.write(line + \"\\n\")"
   ]
  },
  {
   "cell_type": "markdown",
   "id": "779ded71",
   "metadata": {},
   "source": [
    "## construct few-shot prompt for FiQA"
   ]
  },
  {
   "cell_type": "code",
   "execution_count": 4,
   "id": "8704fc7f",
   "metadata": {},
   "outputs": [
    {
     "data": {
      "application/vnd.microsoft.datawrangler.viewer.v0+json": {
       "columns": [
        {
         "name": "index",
         "rawType": "int64",
         "type": "integer"
        },
        {
         "name": "query-id",
         "rawType": "int64",
         "type": "integer"
        },
        {
         "name": "corpus-id",
         "rawType": "int64",
         "type": "integer"
        },
        {
         "name": "score",
         "rawType": "int64",
         "type": "integer"
        }
       ],
       "ref": "91b056d2-5ee6-4c1e-90e5-d9930daef439",
       "rows": [
        [
         "0",
         "1",
         "14255",
         "1"
        ],
        [
         "1",
         "2",
         "308938",
         "1"
        ],
        [
         "2",
         "3",
         "296717",
         "1"
        ],
        [
         "3",
         "3",
         "100764",
         "1"
        ],
        [
         "4",
         "3",
         "314352",
         "1"
        ],
        [
         "5",
         "3",
         "146317",
         "1"
        ],
        [
         "6",
         "17",
         "146657",
         "1"
        ],
        [
         "7",
         "29",
         "274832",
         "1"
        ],
        [
         "8",
         "29",
         "114494",
         "1"
        ],
        [
         "9",
         "29",
         "189642",
         "1"
        ],
        [
         "10",
         "29",
         "103662",
         "1"
        ],
        [
         "11",
         "38",
         "85517",
         "1"
        ],
        [
         "12",
         "38",
         "195207",
         "1"
        ],
        [
         "13",
         "38",
         "357037",
         "1"
        ],
        [
         "14",
         "38",
         "233751",
         "1"
        ],
        [
         "15",
         "44",
         "385881",
         "1"
        ],
        [
         "16",
         "55",
         "324854",
         "1"
        ],
        [
         "17",
         "55",
         "579628",
         "1"
        ],
        [
         "18",
         "55",
         "237207",
         "1"
        ],
        [
         "19",
         "60",
         "381151",
         "1"
        ],
        [
         "20",
         "77",
         "551315",
         "1"
        ],
        [
         "21",
         "440",
         "34087",
         "1"
        ],
        [
         "22",
         "451",
         "449096",
         "1"
        ],
        [
         "23",
         "469",
         "250939",
         "1"
        ],
        [
         "24",
         "469",
         "549432",
         "1"
        ],
        [
         "25",
         "483",
         "240843",
         "1"
        ],
        [
         "26",
         "483",
         "436165",
         "1"
        ],
        [
         "27",
         "483",
         "377571",
         "1"
        ],
        [
         "28",
         "484",
         "129307",
         "1"
        ],
        [
         "29",
         "484",
         "360764",
         "1"
        ],
        [
         "30",
         "484",
         "337083",
         "1"
        ],
        [
         "31",
         "484",
         "258576",
         "1"
        ],
        [
         "32",
         "492",
         "253735",
         "1"
        ],
        [
         "33",
         "492",
         "571786",
         "1"
        ],
        [
         "34",
         "505",
         "154014",
         "1"
        ],
        [
         "35",
         "530",
         "393483",
         "1"
        ],
        [
         "36",
         "543",
         "504419",
         "1"
        ],
        [
         "37",
         "548",
         "577554",
         "1"
        ],
        [
         "38",
         "551",
         "47450",
         "1"
        ],
        [
         "39",
         "566",
         "378465",
         "1"
        ],
        [
         "40",
         "566",
         "257303",
         "1"
        ],
        [
         "41",
         "586",
         "56405",
         "1"
        ],
        [
         "42",
         "586",
         "7170",
         "1"
        ],
        [
         "43",
         "600",
         "472470",
         "1"
        ],
        [
         "44",
         "612",
         "362060",
         "1"
        ],
        [
         "45",
         "616",
         "546299",
         "1"
        ],
        [
         "46",
         "618",
         "296809",
         "1"
        ],
        [
         "47",
         "662",
         "24308",
         "1"
        ],
        [
         "48",
         "665",
         "56506",
         "1"
        ],
        [
         "49",
         "667",
         "510913",
         "1"
        ]
       ],
       "shape": {
        "columns": 3,
        "rows": 1238
       }
      },
      "text/html": [
       "<div>\n",
       "<style scoped>\n",
       "    .dataframe tbody tr th:only-of-type {\n",
       "        vertical-align: middle;\n",
       "    }\n",
       "\n",
       "    .dataframe tbody tr th {\n",
       "        vertical-align: top;\n",
       "    }\n",
       "\n",
       "    .dataframe thead th {\n",
       "        text-align: right;\n",
       "    }\n",
       "</style>\n",
       "<table border=\"1\" class=\"dataframe\">\n",
       "  <thead>\n",
       "    <tr style=\"text-align: right;\">\n",
       "      <th></th>\n",
       "      <th>query-id</th>\n",
       "      <th>corpus-id</th>\n",
       "      <th>score</th>\n",
       "    </tr>\n",
       "  </thead>\n",
       "  <tbody>\n",
       "    <tr>\n",
       "      <th>0</th>\n",
       "      <td>1</td>\n",
       "      <td>14255</td>\n",
       "      <td>1</td>\n",
       "    </tr>\n",
       "    <tr>\n",
       "      <th>1</th>\n",
       "      <td>2</td>\n",
       "      <td>308938</td>\n",
       "      <td>1</td>\n",
       "    </tr>\n",
       "    <tr>\n",
       "      <th>2</th>\n",
       "      <td>3</td>\n",
       "      <td>296717</td>\n",
       "      <td>1</td>\n",
       "    </tr>\n",
       "    <tr>\n",
       "      <th>3</th>\n",
       "      <td>3</td>\n",
       "      <td>100764</td>\n",
       "      <td>1</td>\n",
       "    </tr>\n",
       "    <tr>\n",
       "      <th>4</th>\n",
       "      <td>3</td>\n",
       "      <td>314352</td>\n",
       "      <td>1</td>\n",
       "    </tr>\n",
       "    <tr>\n",
       "      <th>...</th>\n",
       "      <td>...</td>\n",
       "      <td>...</td>\n",
       "      <td>...</td>\n",
       "    </tr>\n",
       "    <tr>\n",
       "      <th>1233</th>\n",
       "      <td>11023</td>\n",
       "      <td>419298</td>\n",
       "      <td>1</td>\n",
       "    </tr>\n",
       "    <tr>\n",
       "      <th>1234</th>\n",
       "      <td>11023</td>\n",
       "      <td>73239</td>\n",
       "      <td>1</td>\n",
       "    </tr>\n",
       "    <tr>\n",
       "      <th>1235</th>\n",
       "      <td>11023</td>\n",
       "      <td>154236</td>\n",
       "      <td>1</td>\n",
       "    </tr>\n",
       "    <tr>\n",
       "      <th>1236</th>\n",
       "      <td>11023</td>\n",
       "      <td>532225</td>\n",
       "      <td>1</td>\n",
       "    </tr>\n",
       "    <tr>\n",
       "      <th>1237</th>\n",
       "      <td>11023</td>\n",
       "      <td>579370</td>\n",
       "      <td>1</td>\n",
       "    </tr>\n",
       "  </tbody>\n",
       "</table>\n",
       "<p>1238 rows × 3 columns</p>\n",
       "</div>"
      ],
      "text/plain": [
       "      query-id  corpus-id  score\n",
       "0            1      14255      1\n",
       "1            2     308938      1\n",
       "2            3     296717      1\n",
       "3            3     100764      1\n",
       "4            3     314352      1\n",
       "...        ...        ...    ...\n",
       "1233     11023     419298      1\n",
       "1234     11023      73239      1\n",
       "1235     11023     154236      1\n",
       "1236     11023     532225      1\n",
       "1237     11023     579370      1\n",
       "\n",
       "[1238 rows x 3 columns]"
      ]
     },
     "metadata": {},
     "output_type": "display_data"
    },
    {
     "name": "stdout",
     "output_type": "stream",
     "text": [
      "length of docs: 57600, Example doc: {'_id': '3', 'title': '', 'text': \"I'm not saying I don't like the idea of on-the-job training too, but you can't expect the company to do that. Training workers is not their job - they're building software. Perhaps educational systems in the U.S. (or their students) should worry a little about getting marketable skills in exchange for their massive investment in education, rather than getting out with thousands in student debt and then complaining that they aren't qualified to do anything.\", 'metadata': {}}\n",
      "length of queries: 6648, Example query: {'_id': '0', 'text': 'What is considered a business expense on a business trip?', 'metadata': {}}\n"
     ]
    }
   ],
   "source": [
    "DATASET=\"fiqa\"\n",
    "import pandas as pd\n",
    "import json\n",
    "\n",
    "dev_qrels = pd.read_csv(f\"/home/guest/r12922050/GitHub/d2qplus/data/{DATASET}/qrels/dev.tsv\", sep=\"\\t\")\n",
    "display(dev_qrels)\n",
    "\n",
    "with open(f\"/home/guest/r12922050/GitHub/d2qplus/data/{DATASET}/corpus.jsonl\", \"r\") as f:\n",
    "    docs = [json.loads(line) for line in f]\n",
    "    docid2doc = {doc[\"_id\"]: doc for doc in docs}\n",
    "\n",
    "with open(f\"/home/guest/r12922050/GitHub/d2qplus/data/{DATASET}/queries.jsonl\", \"r\") as f:\n",
    "    queries = [json.loads(line) for line in f]\n",
    "    queryid2query = {query[\"_id\"]: query['text'] for query in queries}\n",
    "\n",
    "print(f\"length of docs: {len(docid2doc)}, Example doc: {docs[0]}\")\n",
    "print(f\"length of queries: {len(queryid2query)}, Example query: {queries[0]}\")"
   ]
  },
  {
   "cell_type": "code",
   "execution_count": 10,
   "id": "b9110452",
   "metadata": {},
   "outputs": [],
   "source": [
    "# random pick 8 queries from dev_qrels and corresponding corpus-ids\n",
    "import random\n",
    "random.seed(42)  # for reproducibility\n",
    "sampled_qrels = dev_qrels.sample(n=8, random_state=42)\n",
    "sampled_qrels = sampled_qrels[[\"query-id\", \"corpus-id\"]]\n",
    "sampled_qrels[\"query-text\"] = sampled_qrels[\"query-id\"].apply(lambda x: queryid2query[str(x)])\n",
    "sampled_qrels[\"corpus-text\"] = sampled_qrels[\"corpus-id\"].apply(lambda x: docid2doc[str(x)][\"text\"])\n",
    "\n",
    "# print the sampled_qrels\n",
    "with open(\"/home/guest/r12922050/GitHub/d2qplus/prompts/promptagator/fiqa_few_shot_examples.jsonl\", \"w\") as f:\n",
    "    for index, row in sampled_qrels.iterrows():\n",
    "        query_id = str(row[\"query-id\"])\n",
    "        query_text = row[\"query-text\"]\n",
    "        doc_id = str(row[\"corpus-id\"])\n",
    "        doc_text = row[\"corpus-text\"]\n",
    "        example = {\n",
    "            \"query_id\": query_id,\n",
    "            \"query_text\": query_text,\n",
    "            \"doc_id\": doc_id,\n",
    "            \"doc_text\": doc_text\n",
    "        }\n",
    "        f.write(json.dumps(example) + \"\\n\")"
   ]
  },
  {
   "cell_type": "markdown",
   "id": "5805ffc0",
   "metadata": {},
   "source": [
    "Query ID: 4905, Query Text: what are the pros and cons of structured deposits?\n",
    "Corpus ID: 316645, Corpus Text: \"Say we are in 'normal times.' Passbook rates are 5% or so. Longer rates, 6-7%. I offer you a product with these terms, for $10,000 I will return a \"\"Guaranteed\"\" $10,000 in 6 years and based on the stock market, 1% for every 2% the S&P is up beyond 10% at maturity. As the seller of this product, I take $6666, and buy a fixed investment, 6 years at 7% in treasuries will return the $10000. Really. I then take the $3334 and buy out of the money calls on the S&P each year to capture the gains, if any, and to deliver on my promise.  This is one example of a structured deposit offering. They can have nearly any terms one can imagine. Tied to any product. S&P, Crude Oil, Gold. Whatever.\"\n",
    "\n",
    "Query ID: 1747, Query Text: Is it bad etiquette to use a credit or debit card to pay for single figure amounts at the POS\n",
    "Corpus ID: 560557, Corpus Text: Generally, I consider it bad etiquette to inconvenience others.   I would recommend cash for small purchases. Try to offer as close to the required amount as possible.  Don't pay with several dollars worth of change if you can avoid it. You shouldn't need to carry a lot of cash.  When you do don't make it obvious.\n",
    "\n",
    "Query ID: 6786, Query Text: Should I invest in the pre-IPO company stock offered by my employer?\n",
    "Corpus ID: 393164, Corpus Text: Should I invest money in the pre-IPO stocks soon to be offered by the   company that I work for? Is it wise to do this? What should I be thinking about? What are the   risks? The last time I was offered pre-IPO friends and family stock, I purchased half of my allotment, and had my parents purchase the other half. Since I had a 6-month blackout period, I had to hold my portion. My parents sold their portion one day after the IPO. The price went up dramatically for about a day and a half, then dived continuously. My portion ended up being worthless. My parents made a few bucks. Good for them. Not a huge deal either way, since my cost was relatively low. If I had a chance to do it again, I'd give it all to friends or family instead of splitting it, and have them sell quickly if they realized a profit. You might be luckier than I was.\n",
    "\n",
    "Query ID: 7510, Query Text: Should I continue to invest in an S&P 500 index fund?\n",
    "Corpus ID: 106128, Corpus Text: \"You have a good thing going. One of the luxuries of being invested in an index fund for the long term is that you don't have to sweat the inevitable short term dips in the market. Instead, look at the opportunity that presents itself on market dips: now your monthly investment is getting in at a lower price. \"\"Buy low, sell high.\"\" \"\"Don't lose money.\"\" These are common mantras for long term investment mentality. 5-8 years is plenty of time -- I'd call it \"\"medium-term\"\". As you get closer to your goals (~2-3 years out) you should start slowly moving money out of your index fund and start dollar cost averaging out into cash or short-term bonds (but that's another question). Keep putting money in, wait, and sell high. If it's not high, wait another year or two to buy the house. A lot of people do the opposite for their entire lives: buying high, panic selling on the dips, then buying again when it goes up. That's bad! I recommend a search on \"\"dollar cost averaging\"\", which is exactly what you are doing right now with your monthly investments.\"\n",
    "\n",
    "Query ID: 7824, Query Text: At what point is the contents of a trust considered to be the property of the beneficiary?\n",
    "Corpus ID: 210713, Corpus Text: No, you will not have to pay taxes on the corpus (principal) of the trust distribution.  If the trust tax forms were filed correctly, you might have as much as a $9000 loss that will flow to you on the trust's termination.  Previously, the trust was supposed to file a return each year, and either claim the dividends or realized cap gains each year, and pay taxes at trust's rate, or distribute them to the beneficiaries via K-1 form. This is the best way to handle this as the trust has a steep tax table (relative high rates) vs the kiddie tax which would let you get nearly $1K/yr tax free each year as a minor.  During that time, losses net again gains, but can't be 'distributed' to the beneficiary. They are carried forward year to year. In the year the trust is terminated, that loss is not lost, but it's then passed on to the beneficiary, still via K-1. See Schedule K-1 instructions and Schedule K-1 itself.  On a lighter note, the trustee failed you. In the 16 years (Jan 2000-Dec 2015), the market (S&P) grew by 88%, with a compound 4.02%/yr return. Instead of any gain, you got a loss with a -2.75%/yr return. If this were a paid professional, you'd have a potential claim for a lawsuit. This is a reason why amateurs should not be assigned the role of trustee.  To clearly answer the mix of questions you asked - Note - it's always a good idea to seek professional advice. But, the nature of this board is that if any of my answer isn't accurate, a high ranked member (top 20 or so on this list) will likely set me straight within 24 hours.\n",
    "\n",
    "Query ID: 5996, Query Text: How do I choose between buying a car or buying a plot of land in Pakistan?\n",
    "Corpus ID: 379189, Corpus Text: “The plot of land definitely is going to give better results in long term.”  Will it? Land is not guaranteed to go up in value. And a car can provide more employment opportunities for you. You need to look at your specific situation—with specific numbers—rather than using rules of thumb as hard guidelines.\n",
    "\n",
    "Query ID: 6821, Query Text: Is this the right formula to use implied volatility to gauge probability of a stock being within a certain range?\n",
    "Corpus ID: 331598, Corpus Text: To get the probability of hitting a target price you need a little more math and an assumption about the expected return of your stock.  First let's examine the parts of this expression. IV is the implied volatility of the option.  That means it's the volatility of the underlying that is associated with the observed option price.  As a practical matter, volatility is the standard deviation of returns, expressed in annualized terms.  So if the monthly standard deviation is Y, then Y*SQRT(12) is the volatility. From the above you can see that IV*SQRT(DaysToExpire/356) de-annualizes the volatility to get back to a standard deviation.  So you get an estimate of the expected standard deviation of the return between now and expiration. If you multiply this by the stock price, then you get what you have called X, which is the standard deviation of the dollars gained or lost between now and expiration.  Denote the price change by A (so that the standard deviation of A is X). Note that we seek the expression for the probability of hitting a target level, Q, so mathematically we want 1 - Pr( A < Q - StockPrice)  We do 1 minus the probability of being below this threshold because cumulative distribution functions always find the probability of being BELOW a threshold, not above. If you are using excel and assuming a mean of zero for returns, the probability of hitting or exceeding Q at expiration, then, is That's your answer for the probability of exceeding Q. Accuracy is in the eye of the beholder.  You'd have to specify a criterion by which to judge it to know the answer.  I'm sure more sophisticated methods exist that are more unbiased and have less error, but I think it's a fine first approximation.\n",
    "\n",
    "Query ID: 806, Query Text: Trying to understand Return on Capital (Joel Greenblatt's Magic Formula version)\n",
    "Corpus ID: 557607, Corpus Text: Just to clarify things: The Net Working Capital is the funds, the capital that will finance the everyday, the short term, operations of a company like buying raw materials, paying wages erc. So, Net Working Capital doesn't have a negative impact. And you should not see the liabilities as beneficial per se. It's rather the fact that with smaller capital to finance the short term operations the company is able to make this EBIT. You can see it as the efficiency of the company, the smaller the net working capital the more efficient the company is (given the EBIT). I hope you find it helpful, it's my first amswer here. Edit: why do you say the net working capital has a negative impact?\n"
   ]
  },
  {
   "cell_type": "code",
   "execution_count": null,
   "id": "45a71409",
   "metadata": {},
   "outputs": [],
   "source": []
  }
 ],
 "metadata": {
  "kernelspec": {
   "display_name": "d2qplus",
   "language": "python",
   "name": "python3"
  },
  "language_info": {
   "codemirror_mode": {
    "name": "ipython",
    "version": 3
   },
   "file_extension": ".py",
   "mimetype": "text/x-python",
   "name": "python",
   "nbconvert_exporter": "python",
   "pygments_lexer": "ipython3",
   "version": "3.9.21"
  }
 },
 "nbformat": 4,
 "nbformat_minor": 5
}
