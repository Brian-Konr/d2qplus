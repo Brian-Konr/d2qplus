{
 "cells": [
  {
   "cell_type": "code",
   "execution_count": 2,
   "id": "9b8da175",
   "metadata": {},
   "outputs": [
    {
     "name": "stdout",
     "output_type": "stream",
     "text": [
      "3633\n",
      "{'_id': 'MED-10', 'title': 'Statin Use and Breast Cancer Survival: A Nationwide Cohort Study from Finland', 'text': 'Recent studies have suggested that statins, an established drug group in the prevention of cardiovascular mortality, could delay or prevent breast cancer recurrence but the effect on disease-specific mortality remains unclear. We evaluated risk of breast cancer death among statin users in a population-based cohort of breast cancer patients. The study cohort included all newly diagnosed breast cancer patients in Finland during 1995–2003 (31,236 cases), identified from the Finnish Cancer Registry. Information on statin use before and after the diagnosis was obtained from a national prescription database. We used the Cox proportional hazards regression method to estimate mortality among statin users with statin use as time-dependent variable. A total of 4,151 participants had used statins. During the median follow-up of 3.25 years after the diagnosis (range 0.08–9.0 years) 6,011 participants died, of which 3,619 (60.2%) was due to breast cancer. After adjustment for age, tumor characteristics, and treatment selection, both post-diagnostic and pre-diagnostic statin use were associated with lowered risk of breast cancer death (HR 0.46, 95% CI 0.38–0.55 and HR 0.54, 95% CI 0.44–0.67, respectively). The risk decrease by post-diagnostic statin use was likely affected by healthy adherer bias; that is, the greater likelihood of dying cancer patients to discontinue statin use as the association was not clearly dose-dependent and observed already at low-dose/short-term use. The dose- and time-dependence of the survival benefit among pre-diagnostic statin users suggests a possible causal effect that should be evaluated further in a clinical trial testing statins’ effect on survival in breast cancer patients.', 'metadata': {'url': 'http://www.ncbi.nlm.nih.gov/pubmed/25329299'}}\n"
     ]
    }
   ],
   "source": [
    "import json\n",
    "\n",
    "CORPUS_PATH = \"/home/guest/r12922050/GitHub/d2qplus/data/nfcorpus/corpus.jsonl\"\n",
    "with open(CORPUS_PATH, \"r\") as f:\n",
    "    corpus = [json.loads(line) for line in f]\n",
    "print(len(corpus))\n",
    "print(corpus[0])"
   ]
  },
  {
   "cell_type": "markdown",
   "id": "a8d8d29f",
   "metadata": {},
   "source": [
    "# Keyword Extraction using KeyBERT + TF-IDF"
   ]
  },
  {
   "cell_type": "code",
   "execution_count": null,
   "id": "9496608e",
   "metadata": {},
   "outputs": [
    {
     "name": "stderr",
     "output_type": "stream",
     "text": [
      "No sentence-transformers model found with name allenai/scibert_scivocab_uncased. Creating a new one with mean pooling.\n"
     ]
    },
    {
     "name": "stdout",
     "output_type": "stream",
     "text": [
      "# of results generated:3633\n"
     ]
    }
   ],
   "source": [
    "from keybert import KeyBERT\n",
    "from sentence_transformers import SentenceTransformer\n",
    "from sklearn.feature_extraction.text import TfidfVectorizer\n",
    "from tqdm import tqdm\n",
    "\n",
    "tfidf = TfidfVectorizer(\n",
    "    ngram_range=(1,3),      # or (1,1)/(2,2) depending on your n-gram needs\n",
    "    max_df=0.9,             # drop very frequent tokens\n",
    "    min_df=2,               # drop extremely rare tokens\n",
    "    stop_words=\"english\"\n",
    ")\n",
    "\n",
    "tfidf.fit([doc[\"title\"] + \" \" + doc[\"text\"] for doc in corpus])\n",
    "\n",
    "# mp_net = SentenceTransformer(\"sentence-transformers/all-mpnet-base-v2\", device=\"cuda:2\")\n",
    "sci_bert = SentenceTransformer(\"allenai/scibert_scivocab_uncased\", device=\"cuda:2\")\n",
    "\n",
    "\n",
    "kw_model = KeyBERT(model=sci_bert)\n",
    "\n",
    "extract_params = {\n",
    "    \"keyphrase_ngram_range\": (1, 3),  # unigrams + bigrams\n",
    "    \"stop_words\": \"english\",          # default English stop words\n",
    "    \"use_mmr\": True,                  # use Maximal Marginal Relevance to increase diversity\n",
    "    \"diversity\": 0.6,                 # diversity trade-off between relevance vs novelty\n",
    "    \"top_n\": 15,                       # extract up to 10 keyphrases per document\n",
    "    \"vectorizer\": tfidf,             # use the fitted TF-IDF vectorizer\n",
    "}\n",
    "\n",
    "all_texts = [doc[\"title\"] + \" \" + doc[\"text\"] for doc in corpus]\n",
    "results = kw_model.extract_keywords(all_texts, **extract_params)\n",
    "print(f\"# of results generated:{len(results)}\")\n",
    "\n",
    "doc_ids = [doc[\"doc_id\"] for doc in corpus]\n",
    "# zip doc_ids with results\n",
    "\n",
    "\n",
    "\n",
    "# save to jsonl\n",
    "import json\n",
    "OUTPUT_PATH = \"/home/guest/r12922050/GitHub/d2qplus/augmented-data/nfcorpus/keywords/scibert_1_3_gram.jsonl\"\n",
    "with open(OUTPUT_PATH, \"w\") as f:\n",
    "    for doc_id, keywords in keywords_per_doc.items():\n",
    "        f.write(json.dumps({\"doc_id\": doc_id, \"keywords\": keywords}) + \"\\n\")\n",
    "print(f\"saved keywords to {OUTPUT_PATH}\")"
   ]
  },
  {
   "cell_type": "code",
   "execution_count": 8,
   "id": "f17e3de2",
   "metadata": {},
   "outputs": [
    {
     "name": "stdout",
     "output_type": "stream",
     "text": [
      "saved keywords to /home/guest/r12922050/GitHub/d2qplus/augmented-data/nfcorpus/keywords/scibert_1_3_gram.jsonl\n"
     ]
    }
   ],
   "source": [
    "OUTPUT_PATH = \"/home/guest/r12922050/GitHub/d2qplus/augmented-data/nfcorpus/keywords/scibert_1_3_gram.jsonl\"\n",
    "with open(OUTPUT_PATH, \"w\") as f:\n",
    "    for i in range(len(corpus)):\n",
    "        doc_id = corpus[i][\"_id\"]\n",
    "        title = corpus[i][\"title\"]\n",
    "        keywords = results[i]\n",
    "        f.write(json.dumps({\"doc_id\": doc_id, \"title\": title, \"keywords\": keywords}) + \"\\n\")\n",
    "print(f\"saved keywords to {OUTPUT_PATH}\")"
   ]
  },
  {
   "cell_type": "code",
   "execution_count": 6,
   "id": "17a0bf8a",
   "metadata": {},
   "outputs": [
    {
     "data": {
      "text/plain": [
       "{'_id': 'MED-10',\n",
       " 'title': 'Statin Use and Breast Cancer Survival: A Nationwide Cohort Study from Finland',\n",
       " 'text': 'Recent studies have suggested that statins, an established drug group in the prevention of cardiovascular mortality, could delay or prevent breast cancer recurrence but the effect on disease-specific mortality remains unclear. We evaluated risk of breast cancer death among statin users in a population-based cohort of breast cancer patients. The study cohort included all newly diagnosed breast cancer patients in Finland during 1995–2003 (31,236 cases), identified from the Finnish Cancer Registry. Information on statin use before and after the diagnosis was obtained from a national prescription database. We used the Cox proportional hazards regression method to estimate mortality among statin users with statin use as time-dependent variable. A total of 4,151 participants had used statins. During the median follow-up of 3.25 years after the diagnosis (range 0.08–9.0 years) 6,011 participants died, of which 3,619 (60.2%) was due to breast cancer. After adjustment for age, tumor characteristics, and treatment selection, both post-diagnostic and pre-diagnostic statin use were associated with lowered risk of breast cancer death (HR 0.46, 95% CI 0.38–0.55 and HR 0.54, 95% CI 0.44–0.67, respectively). The risk decrease by post-diagnostic statin use was likely affected by healthy adherer bias; that is, the greater likelihood of dying cancer patients to discontinue statin use as the association was not clearly dose-dependent and observed already at low-dose/short-term use. The dose- and time-dependence of the survival benefit among pre-diagnostic statin users suggests a possible causal effect that should be evaluated further in a clinical trial testing statins’ effect on survival in breast cancer patients.',\n",
       " 'metadata': {'url': 'http://www.ncbi.nlm.nih.gov/pubmed/25329299'}}"
      ]
     },
     "execution_count": 6,
     "metadata": {},
     "output_type": "execute_result"
    }
   ],
   "source": [
    "corpus[0]"
   ]
  },
  {
   "cell_type": "code",
   "execution_count": 21,
   "id": "3d2d203b",
   "metadata": {},
   "outputs": [
    {
     "name": "stdout",
     "output_type": "stream",
     "text": [
      "3633 {'MED-10': [['possible causal effect', 0.5809], ['nationwide cohort study', 0.5649], ['discontinue statin use', 0.5625], ['cancer registry information', 0.5324], ['characteristics treatment selection', 0.5257], ['breast cancer', 0.5231], ['specific mortality', 0.518], ['tumor characteristics', 0.517], ['95 ci 44', 0.4994], ['clinical trial testing', 0.4993], ['patients finland', 0.4434], ['users population based', 0.4357], ['2003 31', 0.404], ['ci', 0.4002], ['54', 0.3239]]}\n"
     ]
    }
   ],
   "source": [
    "with open(f\"/home/guest/r12922050/GitHub/d2qplus/augmented-data/nfcorpus/keywords/scibert_1_3_gram.jsonl\", \"r\") as f:\n",
    "    corpus_keywords = [json.loads(line) for line in f]\n",
    "print(len(corpus_keywords), corpus_keywords[0])"
   ]
  }
 ],
 "metadata": {
  "kernelspec": {
   "display_name": "bertopic",
   "language": "python",
   "name": "python3"
  },
  "language_info": {
   "codemirror_mode": {
    "name": "ipython",
    "version": 3
   },
   "file_extension": ".py",
   "mimetype": "text/x-python",
   "name": "python",
   "nbconvert_exporter": "python",
   "pygments_lexer": "ipython3",
   "version": "3.9.21"
  }
 },
 "nbformat": 4,
 "nbformat_minor": 5
}
