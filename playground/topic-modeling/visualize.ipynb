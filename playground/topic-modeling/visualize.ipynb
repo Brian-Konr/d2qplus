{
 "cells": [
  {
   "cell_type": "markdown",
   "id": "c1635a99",
   "metadata": {},
   "source": [
    "### Check distribution of # of topics per document for all grid search results"
   ]
  },
  {
   "cell_type": "code",
   "execution_count": 1,
   "id": "66733f89",
   "metadata": {},
   "outputs": [],
   "source": [
    "import os\n",
    "import json\n",
    "import matplotlib.pyplot as plt\n",
    "import seaborn as sns\n",
    "import numpy as np\n",
    "import pandas as pd\n",
    "from pathlib import Path\n",
    "\n",
    "# Base directory containing all topic modeling results\n",
    "TOPIC_BASE_DIR = \"/home/guest/r12922050/GitHub/d2qplus/augmented-data/fiqa-5000/topics\""
   ]
  },
  {
   "cell_type": "code",
   "execution_count": 2,
   "id": "02dea46b",
   "metadata": {},
   "outputs": [],
   "source": [
    "def visualize_topic_distribution(topic_dir_path, save_plot=True):\n",
    "    \"\"\"\n",
    "    Visualize topic distribution for a single topic directory\n",
    "    \"\"\"\n",
    "    doc_topics_path = os.path.join(topic_dir_path, \"doc_topics.jsonl\")\n",
    "    \n",
    "    if not os.path.exists(doc_topics_path):\n",
    "        print(f\"Skipping {topic_dir_path}: doc_topics.jsonl not found\")\n",
    "        return None\n",
    "    \n",
    "    # Load topic data\n",
    "    with open(doc_topics_path, \"r\") as f:\n",
    "        corpus_topic = [json.loads(line) for line in f]\n",
    "    \n",
    "    # Calculate topic numbers per document\n",
    "    topic_num = []\n",
    "    for doc in corpus_topic:\n",
    "        topic_num.append(len(doc['topics']))\n",
    "    \n",
    "    # Calculate statistics\n",
    "    avg_topics = sum(topic_num) / len(topic_num) if topic_num else 0\n",
    "    max_topics = max(topic_num) if topic_num else 0\n",
    "    min_topics = min(topic_num) if topic_num else 0\n",
    "    \n",
    "    stats = {\n",
    "        'avg_topics': avg_topics,\n",
    "        'max_topics': max_topics,\n",
    "        'min_topics': min_topics,\n",
    "        'total_docs': len(topic_num)\n",
    "    }\n",
    "    \n",
    "    print(f\"\\n=== {os.path.basename(topic_dir_path)} ===\")\n",
    "    print(f\"Average number of topics per document: {avg_topics:.2f}\")\n",
    "    print(f\"Max number of topics per document: {max_topics}\")\n",
    "    print(f\"Min number of topics per document: {min_topics}\")\n",
    "    print(f\"Total documents: {len(topic_num)}\")\n",
    "    \n",
    "    if save_plot:\n",
    "        # Create visualization\n",
    "        plt.figure(figsize=(12, 8))\n",
    "        \n",
    "        # Create subplot layout\n",
    "        fig, (ax1, ax2) = plt.subplots(1, 2, figsize=(15, 6))\n",
    "        \n",
    "        # Histogram with KDE\n",
    "        sns.histplot(topic_num, bins=30, kde=True, ax=ax1)\n",
    "        ax1.set_title(f'Topic Distribution - {os.path.basename(topic_dir_path)}')\n",
    "        ax1.set_xlabel('Number of Topics per Document')\n",
    "        ax1.set_ylabel('Frequency')\n",
    "        ax1.set_xlim(0, max_topics + 1)\n",
    "        ax1.grid(axis='y', alpha=0.3)\n",
    "        \n",
    "        # Box plot for additional insights\n",
    "        sns.boxplot(y=topic_num, ax=ax2)\n",
    "        ax2.set_title('Topic Distribution Box Plot')\n",
    "        ax2.set_ylabel('Number of Topics per Document')\n",
    "        ax2.grid(axis='y', alpha=0.3)\n",
    "        \n",
    "        # Add statistics text\n",
    "        stats_text = f'Avg: {avg_topics:.2f}\\nMax: {max_topics}\\nMin: {min_topics}\\nDocs: {len(topic_num)}'\n",
    "        ax2.text(0.02, 0.98, stats_text, transform=ax2.transAxes, \n",
    "                verticalalignment='top', bbox=dict(boxstyle='round', facecolor='wheat', alpha=0.8))\n",
    "        \n",
    "        plt.tight_layout()\n",
    "        \n",
    "        # Save plot\n",
    "        plot_path = os.path.join(topic_dir_path, \"topic_distribution.png\")\n",
    "        plt.savefig(plot_path, dpi=300, bbox_inches='tight')\n",
    "        plt.close()\n",
    "        \n",
    "        print(f\"Saved plot to: {plot_path}\")\n",
    "    \n",
    "    return stats"
   ]
  },
  {
   "cell_type": "code",
   "execution_count": 3,
   "id": "46fb1c86",
   "metadata": {},
   "outputs": [
    {
     "name": "stdout",
     "output_type": "stream",
     "text": [
      "\n",
      "=== 0612-all-mpnet-base-v2-topic-size-5-reduce-outliers ===\n",
      "Average number of topics per document: 3.10\n",
      "Max number of topics per document: 25\n",
      "Min number of topics per document: 1\n",
      "Total documents: 4999\n",
      "Saved plot to: /home/guest/r12922050/GitHub/d2qplus/augmented-data/fiqa-5000/topics/0612-all-mpnet-base-v2-topic-size-5-reduce-outliers/topic_distribution.png\n",
      "\n",
      "Saved summary to: /home/guest/r12922050/GitHub/d2qplus/augmented-data/fiqa-5000/topics/topic_distribution_summary.csv\n",
      "\n",
      "=== SUMMARY ===\n"
     ]
    },
    {
     "data": {
      "application/vnd.microsoft.datawrangler.viewer.v0+json": {
       "columns": [
        {
         "name": "index",
         "rawType": "int64",
         "type": "integer"
        },
        {
         "name": "config_dir",
         "rawType": "object",
         "type": "string"
        },
        {
         "name": "avg_topics",
         "rawType": "float64",
         "type": "float"
        },
        {
         "name": "max_topics",
         "rawType": "int64",
         "type": "integer"
        },
        {
         "name": "min_topics",
         "rawType": "int64",
         "type": "integer"
        },
        {
         "name": "total_docs",
         "rawType": "int64",
         "type": "integer"
        }
       ],
       "ref": "49de48d7-b80a-4bda-bfe6-b1f112845ff2",
       "rows": [
        [
         "0",
         "0612-all-mpnet-base-v2-topic-size-5-reduce-outliers",
         "3.1014202840568115",
         "25",
         "1",
         "4999"
        ]
       ],
       "shape": {
        "columns": 5,
        "rows": 1
       }
      },
      "text/html": [
       "<div>\n",
       "<style scoped>\n",
       "    .dataframe tbody tr th:only-of-type {\n",
       "        vertical-align: middle;\n",
       "    }\n",
       "\n",
       "    .dataframe tbody tr th {\n",
       "        vertical-align: top;\n",
       "    }\n",
       "\n",
       "    .dataframe thead th {\n",
       "        text-align: right;\n",
       "    }\n",
       "</style>\n",
       "<table border=\"1\" class=\"dataframe\">\n",
       "  <thead>\n",
       "    <tr style=\"text-align: right;\">\n",
       "      <th></th>\n",
       "      <th>config_dir</th>\n",
       "      <th>avg_topics</th>\n",
       "      <th>max_topics</th>\n",
       "      <th>min_topics</th>\n",
       "      <th>total_docs</th>\n",
       "    </tr>\n",
       "  </thead>\n",
       "  <tbody>\n",
       "    <tr>\n",
       "      <th>0</th>\n",
       "      <td>0612-all-mpnet-base-v2-topic-size-5-reduce-out...</td>\n",
       "      <td>3.10142</td>\n",
       "      <td>25</td>\n",
       "      <td>1</td>\n",
       "      <td>4999</td>\n",
       "    </tr>\n",
       "  </tbody>\n",
       "</table>\n",
       "</div>"
      ],
      "text/plain": [
       "                                          config_dir  avg_topics  max_topics  \\\n",
       "0  0612-all-mpnet-base-v2-topic-size-5-reduce-out...     3.10142          25   \n",
       "\n",
       "   min_topics  total_docs  \n",
       "0           1        4999  "
      ]
     },
     "metadata": {},
     "output_type": "display_data"
    },
    {
     "data": {
      "text/plain": [
       "<Figure size 1200x800 with 0 Axes>"
      ]
     },
     "metadata": {},
     "output_type": "display_data"
    }
   ],
   "source": [
    "def process_all_topic_directories(base_dir):\n",
    "    \"\"\"\n",
    "    Process all topic directories and create visualizations\n",
    "    \"\"\"\n",
    "    all_stats = []\n",
    "    \n",
    "    # Find all subdirectories that contain doc_topics.jsonl\n",
    "    try:\n",
    "        for root, dirs, files in os.walk(base_dir):\n",
    "            try:\n",
    "                if \"doc_topics.jsonl\" in files:\n",
    "                    stats = visualize_topic_distribution(root, save_plot=True)\n",
    "                    if stats:\n",
    "                        stats['config_dir'] = os.path.basename(root)\n",
    "                        stats['full_path'] = root\n",
    "                        all_stats.append(stats)\n",
    "            except PermissionError:\n",
    "                print(f\"Permission denied: Skipping {root}\")\n",
    "                continue\n",
    "            except Exception as e:\n",
    "                print(f\"Error processing {root}: {e}\")\n",
    "                continue\n",
    "    except PermissionError:\n",
    "        print(f\"Permission denied: Cannot access base directory {base_dir}\")\n",
    "        return None\n",
    "    except Exception as e:\n",
    "        print(f\"Error walking directory {base_dir}: {e}\")\n",
    "        return None\n",
    "    \n",
    "    # Create summary DataFrame\n",
    "    if all_stats:\n",
    "        summary_df = pd.DataFrame(all_stats)\n",
    "        summary_df = summary_df.sort_values('avg_topics', ascending=False)\n",
    "        \n",
    "        # Save summary\n",
    "        summary_path = os.path.join(base_dir, \"topic_distribution_summary.csv\")\n",
    "        summary_df.to_csv(summary_path, index=False)\n",
    "        print(f\"\\nSaved summary to: {summary_path}\")\n",
    "        \n",
    "        # Display summary\n",
    "        print(\"\\n=== SUMMARY ===\")\n",
    "        display(summary_df[['config_dir', 'avg_topics', 'max_topics', 'min_topics', 'total_docs']])\n",
    "        \n",
    "        return summary_df\n",
    "    else:\n",
    "        print(\"No topic directories found!\")\n",
    "        return None\n",
    "\n",
    "# Process all directories\n",
    "summary_stats = process_all_topic_directories(TOPIC_BASE_DIR)"
   ]
  },
  {
   "cell_type": "code",
   "execution_count": 4,
   "id": "8fccbd7e",
   "metadata": {},
   "outputs": [
    {
     "name": "stdout",
     "output_type": "stream",
     "text": [
      "Saved comparison plot to: /home/guest/r12922050/GitHub/d2qplus/augmented-data/fiqa-5000/topics/topic_distribution_comparison.png\n"
     ]
    },
    {
     "data": {
      "text/plain": [
       "<Figure size 1500x1000 with 0 Axes>"
      ]
     },
     "metadata": {},
     "output_type": "display_data"
    }
   ],
   "source": [
    "# Create overall comparison visualization\n",
    "if summary_stats is not None and len(summary_stats) > 0:\n",
    "    plt.figure(figsize=(15, 10))\n",
    "    \n",
    "    # Create subplots for comparison\n",
    "    fig, ((ax1, ax2), (ax3, ax4)) = plt.subplots(2, 2, figsize=(18, 12))\n",
    "    \n",
    "    # 1. Average topics comparison\n",
    "    summary_stats_sorted = summary_stats.sort_values('avg_topics')\n",
    "    ax1.barh(range(len(summary_stats_sorted)), summary_stats_sorted['avg_topics'])\n",
    "    ax1.set_yticks(range(len(summary_stats_sorted)))\n",
    "    ax1.set_yticklabels(summary_stats_sorted['config_dir'], fontsize=8)\n",
    "    ax1.set_xlabel('Average Topics per Document')\n",
    "    ax1.set_title('Average Topics per Document by Configuration')\n",
    "    ax1.grid(axis='x', alpha=0.3)\n",
    "    \n",
    "    # 2. Max topics comparison\n",
    "    summary_stats_sorted = summary_stats.sort_values('max_topics')\n",
    "    ax2.barh(range(len(summary_stats_sorted)), summary_stats_sorted['max_topics'])\n",
    "    ax2.set_yticks(range(len(summary_stats_sorted)))\n",
    "    ax2.set_yticklabels(summary_stats_sorted['config_dir'], fontsize=8)\n",
    "    ax2.set_xlabel('Maximum Topics per Document')\n",
    "    ax2.set_title('Maximum Topics per Document by Configuration')\n",
    "    ax2.grid(axis='x', alpha=0.3)\n",
    "    \n",
    "    # 3. Scatter plot: avg vs max topics\n",
    "    ax3.scatter(summary_stats['avg_topics'], summary_stats['max_topics'], alpha=0.7)\n",
    "    ax3.set_xlabel('Average Topics per Document')\n",
    "    ax3.set_ylabel('Maximum Topics per Document')\n",
    "    ax3.set_title('Average vs Maximum Topics per Document')\n",
    "    ax3.grid(alpha=0.3)\n",
    "    \n",
    "    # Add labels for outliers\n",
    "    for i, row in summary_stats.iterrows():\n",
    "        if row['max_topics'] > summary_stats['max_topics'].quantile(0.8):\n",
    "            ax3.annotate(row['config_dir'], \n",
    "                        (row['avg_topics'], row['max_topics']),\n",
    "                        xytext=(5, 5), textcoords='offset points',\n",
    "                        fontsize=8, alpha=0.7)\n",
    "    \n",
    "    # 4. Total documents comparison\n",
    "    ax4.bar(range(len(summary_stats)), summary_stats['total_docs'])\n",
    "    ax4.set_xticks(range(len(summary_stats)))\n",
    "    ax4.set_xticklabels(summary_stats['config_dir'], rotation=45, ha='right', fontsize=8)\n",
    "    ax4.set_ylabel('Total Documents')\n",
    "    ax4.set_title('Total Documents by Configuration')\n",
    "    ax4.grid(axis='y', alpha=0.3)\n",
    "    \n",
    "    plt.tight_layout()\n",
    "    \n",
    "    # Save comparison plot\n",
    "    comparison_plot_path = os.path.join(TOPIC_BASE_DIR, \"topic_distribution_comparison.png\")\n",
    "    plt.savefig(comparison_plot_path, dpi=300, bbox_inches='tight')\n",
    "    plt.close()\n",
    "    \n",
    "    print(f\"Saved comparison plot to: {comparison_plot_path}\")"
   ]
  },
  {
   "cell_type": "markdown",
   "id": "3244328e",
   "metadata": {},
   "source": [
    "### Process topic info dataframes for all directories"
   ]
  },
  {
   "cell_type": "code",
   "execution_count": 5,
   "id": "e6cbe0fd",
   "metadata": {},
   "outputs": [
    {
     "name": "stdout",
     "output_type": "stream",
     "text": [
      "Saved topic info summary to: /home/guest/r12922050/GitHub/d2qplus/augmented-data/fiqa-5000/topics/topic_info_summary.csv\n",
      "\n",
      "=== TOPIC INFO SUMMARY ===\n"
     ]
    },
    {
     "data": {
      "application/vnd.microsoft.datawrangler.viewer.v0+json": {
       "columns": [
        {
         "name": "index",
         "rawType": "int64",
         "type": "integer"
        },
        {
         "name": "config_dir",
         "rawType": "object",
         "type": "string"
        },
        {
         "name": "num_topics",
         "rawType": "int64",
         "type": "integer"
        },
        {
         "name": "total_docs_in_topics",
         "rawType": "int64",
         "type": "integer"
        },
        {
         "name": "avg_docs_per_topic",
         "rawType": "float64",
         "type": "float"
        },
        {
         "name": "max_docs_per_topic",
         "rawType": "int64",
         "type": "integer"
        },
        {
         "name": "min_docs_per_topic",
         "rawType": "int64",
         "type": "integer"
        }
       ],
       "ref": "8e499e35-a444-4ed2-ab36-721389cc08d0",
       "rows": [
        [
         "0",
         "0612-all-mpnet-base-v2-topic-size-5-reduce-outliers",
         "915",
         "39170",
         "42.762008733624455",
         "22618",
         "5"
        ]
       ],
       "shape": {
        "columns": 6,
        "rows": 1
       }
      },
      "text/html": [
       "<div>\n",
       "<style scoped>\n",
       "    .dataframe tbody tr th:only-of-type {\n",
       "        vertical-align: middle;\n",
       "    }\n",
       "\n",
       "    .dataframe tbody tr th {\n",
       "        vertical-align: top;\n",
       "    }\n",
       "\n",
       "    .dataframe thead th {\n",
       "        text-align: right;\n",
       "    }\n",
       "</style>\n",
       "<table border=\"1\" class=\"dataframe\">\n",
       "  <thead>\n",
       "    <tr style=\"text-align: right;\">\n",
       "      <th></th>\n",
       "      <th>config_dir</th>\n",
       "      <th>num_topics</th>\n",
       "      <th>total_docs_in_topics</th>\n",
       "      <th>avg_docs_per_topic</th>\n",
       "      <th>max_docs_per_topic</th>\n",
       "      <th>min_docs_per_topic</th>\n",
       "    </tr>\n",
       "  </thead>\n",
       "  <tbody>\n",
       "    <tr>\n",
       "      <th>0</th>\n",
       "      <td>0612-all-mpnet-base-v2-topic-size-5-reduce-out...</td>\n",
       "      <td>915</td>\n",
       "      <td>39170</td>\n",
       "      <td>42.762009</td>\n",
       "      <td>22618</td>\n",
       "      <td>5</td>\n",
       "    </tr>\n",
       "  </tbody>\n",
       "</table>\n",
       "</div>"
      ],
      "text/plain": [
       "                                          config_dir  num_topics  \\\n",
       "0  0612-all-mpnet-base-v2-topic-size-5-reduce-out...         915   \n",
       "\n",
       "   total_docs_in_topics  avg_docs_per_topic  max_docs_per_topic  \\\n",
       "0                 39170           42.762009               22618   \n",
       "\n",
       "   min_docs_per_topic  \n",
       "0                   5  "
      ]
     },
     "metadata": {},
     "output_type": "display_data"
    }
   ],
   "source": [
    "def process_topic_info_dataframes(base_dir):\n",
    "    \"\"\"\n",
    "    Process topic_info_dataframe.pkl files in all topic directories\n",
    "    \"\"\"\n",
    "    topic_info_summary = []\n",
    "    \n",
    "    for root, dirs, files in os.walk(base_dir):\n",
    "        pkl_path = os.path.join(root, \"topic_info_dataframe.pkl\")\n",
    "        csv_path = os.path.join(root, \"topic_info_dataframe.csv\")\n",
    "        \n",
    "        if os.path.exists(pkl_path):\n",
    "            try:\n",
    "                # Load pickle file\n",
    "                topic_info_df = pd.read_pickle(pkl_path)\n",
    "                \n",
    "                # Save as CSV if not exists\n",
    "                if not os.path.exists(csv_path):\n",
    "                    topic_info_df.to_csv(csv_path, index=False)\n",
    "                    print(f\"Saved CSV: {csv_path}\")\n",
    "                \n",
    "                # Collect summary statistics\n",
    "                config_name = os.path.basename(root)\n",
    "                num_topics = len(topic_info_df) - 1  # Exclude outlier topic (-1)\n",
    "                \n",
    "                summary_info = {\n",
    "                    'config_dir': config_name,\n",
    "                    'num_topics': num_topics,\n",
    "                    'total_docs_in_topics': topic_info_df['Count'].sum() if 'Count' in topic_info_df.columns else 0,\n",
    "                    'avg_docs_per_topic': topic_info_df['Count'].mean() if 'Count' in topic_info_df.columns else 0,\n",
    "                    'max_docs_per_topic': topic_info_df['Count'].max() if 'Count' in topic_info_df.columns else 0,\n",
    "                    'min_docs_per_topic': topic_info_df['Count'].min() if 'Count' in topic_info_df.columns else 0,\n",
    "                }\n",
    "                \n",
    "                topic_info_summary.append(summary_info)\n",
    "                \n",
    "            except Exception as e:\n",
    "                print(f\"Error processing {pkl_path}: {e}\")\n",
    "    \n",
    "    # Create and save summary\n",
    "    if topic_info_summary:\n",
    "        topic_summary_df = pd.DataFrame(topic_info_summary)\n",
    "        topic_summary_df = topic_summary_df.sort_values('num_topics', ascending=False)\n",
    "        \n",
    "        summary_path = os.path.join(base_dir, \"topic_info_summary.csv\")\n",
    "        topic_summary_df.to_csv(summary_path, index=False)\n",
    "        print(f\"Saved topic info summary to: {summary_path}\")\n",
    "        \n",
    "        print(\"\\n=== TOPIC INFO SUMMARY ===\")\n",
    "        display(topic_summary_df)\n",
    "        \n",
    "        return topic_summary_df\n",
    "    else:\n",
    "        print(\"No topic info files found!\")\n",
    "        return None\n",
    "\n",
    "# Process all topic info dataframes\n",
    "topic_summary = process_topic_info_dataframes(TOPIC_BASE_DIR)"
   ]
  },
  {
   "cell_type": "markdown",
   "id": "6cecaead",
   "metadata": {},
   "source": [
    "### Generate comprehensive report"
   ]
  },
  {
   "cell_type": "code",
   "execution_count": 6,
   "id": "c3114d4e",
   "metadata": {},
   "outputs": [
    {
     "name": "stdout",
     "output_type": "stream",
     "text": [
      "Comprehensive report saved to: /home/guest/r12922050/GitHub/d2qplus/augmented-data/fiqa-5000/topics/analysis_report.md\n",
      "\n",
      "# Topic Modeling Grid Search Analysis Report\n",
      "Generated from: /home/guest/r12922050/GitHub/d2qplus/augmented-data/fiqa-5000/topics\n",
      "Total configurations analyzed: 1\n",
      "\n",
      "## Top Configurations by Average Topics per Document\n",
      "- **0612-all-mpnet-base-v2-topic-size-5-reduce-outliers**: 3.10 avg topics, 915 total topics\n",
      "\n",
      "## Top Configurations by Total Number of Topics\n",
      "- **0612-all-mpnet-base-v2-topic-size-5-reduce-outliers**: 915 topics, 3.10 avg per doc\n",
      "\n",
      "## Configuration Analysis\n",
      "- Average topics per document range: 3.10 - 3.10\n",
      "- Total topics range: 915 - 915\n",
      "- Most documents in single config: 4999\n",
      "\n",
      "Detailed analysis saved to: /home/guest/r12922050/GitHub/d2qplus/augmented-data/fiqa-5000/topics/detailed_analysis_summary.csv\n"
     ]
    }
   ],
   "source": [
    "def generate_comprehensive_report(base_dir, distribution_summary, topic_info_summary):\n",
    "    \"\"\"\n",
    "    Generate a comprehensive report combining all analyses\n",
    "    \"\"\"\n",
    "    report_lines = []\n",
    "    report_lines.append(\"# Topic Modeling Grid Search Analysis Report\")\n",
    "    report_lines.append(f\"Generated from: {base_dir}\")\n",
    "    report_lines.append(f\"Total configurations analyzed: {len(distribution_summary) if distribution_summary is not None else 0}\")\n",
    "    report_lines.append(\"\")\n",
    "    \n",
    "    if distribution_summary is not None and topic_info_summary is not None:\n",
    "        # Merge the two summaries\n",
    "        merged_summary = distribution_summary.merge(\n",
    "            topic_info_summary[['config_dir', 'num_topics', 'avg_docs_per_topic']], \n",
    "            on='config_dir', \n",
    "            how='left'\n",
    "        )\n",
    "        \n",
    "        report_lines.append(\"## Top Configurations by Average Topics per Document\")\n",
    "        top_avg = merged_summary.nlargest(5, 'avg_topics')\n",
    "        for _, row in top_avg.iterrows():\n",
    "            report_lines.append(f\"- **{row['config_dir']}**: {row['avg_topics']:.2f} avg topics, {row['num_topics']} total topics\")\n",
    "        report_lines.append(\"\")\n",
    "        \n",
    "        report_lines.append(\"## Top Configurations by Total Number of Topics\")\n",
    "        top_num = merged_summary.nlargest(5, 'num_topics')\n",
    "        for _, row in top_num.iterrows():\n",
    "            report_lines.append(f\"- **{row['config_dir']}**: {row['num_topics']} topics, {row['avg_topics']:.2f} avg per doc\")\n",
    "        report_lines.append(\"\")\n",
    "        \n",
    "        report_lines.append(\"## Configuration Analysis\")\n",
    "        report_lines.append(f\"- Average topics per document range: {merged_summary['avg_topics'].min():.2f} - {merged_summary['avg_topics'].max():.2f}\")\n",
    "        report_lines.append(f\"- Total topics range: {merged_summary['num_topics'].min()} - {merged_summary['num_topics'].max()}\")\n",
    "        report_lines.append(f\"- Most documents in single config: {merged_summary['total_docs'].max()}\")\n",
    "        report_lines.append(\"\")\n",
    "        \n",
    "        # Save detailed summary\n",
    "        detailed_summary_path = os.path.join(base_dir, \"detailed_analysis_summary.csv\")\n",
    "        merged_summary.to_csv(detailed_summary_path, index=False)\n",
    "        report_lines.append(f\"Detailed analysis saved to: {detailed_summary_path}\")\n",
    "    \n",
    "    # Save report\n",
    "    report_path = os.path.join(base_dir, \"analysis_report.md\")\n",
    "    with open(report_path, 'w', encoding='utf-8') as f:\n",
    "        f.write('\\n'.join(report_lines))\n",
    "    \n",
    "    print(f\"Comprehensive report saved to: {report_path}\")\n",
    "    print(\"\\n\" + \"\\n\".join(report_lines))\n",
    "\n",
    "# Generate comprehensive report\n",
    "if summary_stats is not None and topic_summary is not None:\n",
    "    generate_comprehensive_report(TOPIC_BASE_DIR, summary_stats, topic_summary)"
   ]
  }
 ],
 "metadata": {
  "kernelspec": {
   "display_name": "d2qplus",
   "language": "python",
   "name": "python3"
  },
  "language_info": {
   "codemirror_mode": {
    "name": "ipython",
    "version": 3
   },
   "file_extension": ".py",
   "mimetype": "text/x-python",
   "name": "python",
   "nbconvert_exporter": "python",
   "pygments_lexer": "ipython3",
   "version": "3.9.21"
  }
 },
 "nbformat": 4,
 "nbformat_minor": 5
}
