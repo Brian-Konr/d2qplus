{
 "cells": [
  {
   "cell_type": "markdown",
   "id": "a9c9b44c",
   "metadata": {},
   "source": [
    "In this .ipynb, I want to explore datasets that really can reflect topic coverage importance in downstream retrieval performance"
   ]
  },
  {
   "cell_type": "code",
   "execution_count": 3,
   "id": "83f13230",
   "metadata": {},
   "outputs": [
    {
     "name": "stdout",
     "output_type": "stream",
     "text": [
      "loading car/v1.5/train/fold0 dataset...\n",
      "dataset loaded, turning into a list of documents...\n",
      "0000000e7e72cafb61a9f356b7dceb25c5e028db Ukraine was one of the most dangerous places for journalists in the world during the euromaidan demonstrations and the war in Donbass. A May 2014 report from the OSCE found approximately 300 instances of perceived violent attacks on the media in Ukraine since November 2013.  78 journalists were abducted and illegally detained by various groups in 2014 - a new category of professional risk; 20 such cases happened in Donetsk in April 2014. In July 2014 a firebomb was thrown at the TV channel ''112 Ukraine''.\n",
      "0000005eafb11cbd7e9780161f9f0a0a6fd897cd '''October 4'''  Missouri opened its season with a 3-0 win at Chicago, the Maroons' only loss of the season.  Notre Dame opened its season with a 40-0 win over Lombard College.  Stanford beat Occidental College 20-6, and California beat St. Mary's 17-7.  Army beat St. Louis 17-0,  Yale beat North Carolina 27-0, and Dartmouth beat Montreal's McGill University 52-0.  Alabama won at Furman 20-0.  SMU beat Trinity College 14-3\n",
      "000000afe1da525b3db17db77f350b187441a9ed The 1913 Johannisthal Air Disaster happened close to the air field, killing all 28 passengers.The German astronaut Reinhard Furrer died on September 9, 1995 during historic flight show.\n",
      "0000014f07ec8c3f6dc130d21cddc42da950068a Stéphane Houdet successfully defended the title by defeating Shingo Kunieda 7–5, 5–7, 7–6 in the final.\n",
      "000001ae0be1235060c10e6edc99f7791e86a04c Ayscough was murdered on 29 June 1450 by an angry mob during Jack Cade’s rebellion, as he had married Henry VI and the deeply unpopular Margaret of Anjou.\n",
      "000001bb25f259b4b12ca8ec46db1ca05256f1a4 ''Limnogale mergulus'' is strictly nocturnal, spending the day in stream side burrows, only emerging at night to hunt. Nocturnal movements appear to be restricted to waterways but include movement away from burrow and diving. Radio collar tracking has shown that some individuals are known utilize stream channels as much as 1160 meters in length, while others may only patrol 500 meters. In one night a web-footed tenrec may travel 1550 meters along channel in search of food.\n",
      "000001e3fa9733444a285b6d3141b117655146d6 The '''South-West Conference''' is a high school athletics conference in Southwestern Connecticut. The conference comprises schools in Fairfield County, Litchfield County, and New Haven County\n",
      "00000435e6eaca3b8bca782c61b06f1050966eed The line between Mariahütte and Wadern was closed in November 1968. The connection curve from Mariahütte to Türkismühle was closed with it. Autobahn 1 now runs on part of the former line between Primstal and Mariahütte. The station buildings of Kastel, Primstal and Krettnich were demolished. The tracks between Wadern and Büschfeld were dismantled after 30 November 1993.\n",
      "000005df544fc7e7939ea12af6fab78fcd652a32 The New Zealand Navy uses an 85 m version of the Vard Marine Inc. OPV design referred to as the . This is a modified version of the older Irish Navy ''Róisín''-class PV80 vessels with helideck and hangar incorporated.\n",
      "000006d5c22f4efbb6b963ea819e976a4b28600b To mark the 40th anniversary of \"Bohemian Rhapsody\", the song was released on a limited edition 12\" vinyl with the original B-side \"I'm In Love With My Car\" on 27 November 2015 for Record Store Day 2015. Queen also released ''A Night At The Odeon, Live At Hammersmith 75'', on CD, DVD & Blu-ray. This includes the first ever live recorded performance of \"Bohemian Rhapsody\".\n",
      "0000070402dbaf074bc1e3ba487036322ef8ce86 In 1662, the then Governor of Jamaica, Lord Windsor, received royal instructions to protect  the \"Caimanes Islands ... by planting and raising Fortifications upon them\"; the fortification, however, was not constructed until 1790. Fort George was built using local coral rock and limestone ironshore with its design being based largely on the English fortifications of the  time. The oval base of the Fort measured approximately 57 feet by 38 feet. There were eight embrasures for cannons around the sides of the fort and a mahogany gate on the fort's landward side. The walls of Fort George ranged in thickness from two feet on its landward side to five feet on its seaward side, with the walls being about five feet in height.\n"
     ]
    }
   ],
   "source": [
    "import ir_datasets\n",
    "print(\"loading car/v1.5/train/fold0 dataset...\")\n",
    "dataset = ir_datasets.load(\"car/v1.5/train/fold0\")\n",
    "\n",
    "print(\"dataset loaded, turning into a list of documents...\")\n",
    "# doc_list = list(dataset.docs_iter())\n",
    "\n",
    "# print(\"dataset has\", len(doc_list), \"documents\")\n",
    "i = 0\n",
    "for d in dataset.docs_iter():\n",
    "    print(d.doc_id, d.text)\n",
    "    i += 1\n",
    "    if i > 10:\n",
    "        break\n",
    "    \n"
   ]
  },
  {
   "cell_type": "code",
   "execution_count": null,
   "id": "dc2b48d4",
   "metadata": {},
   "outputs": [
    {
     "name": "stdout",
     "output_type": "stream",
     "text": [
      "query id: Kindertotenlieder/Text%20and%20music, query text: Kindertotenlieder Text and music\n",
      "query id: Kindertotenlieder/Composition%20and%20premiere, query text: Kindertotenlieder Composition and premiere\n",
      "query id: Kindertotenlieder/Scoring%20and%20performance, query text: Kindertotenlieder Scoring and performance\n",
      "query id: Kindertotenlieder/The%20''Kindertotenlieder''%20and%20Mahler's%20life%20history, query text: Kindertotenlieder The ''Kindertotenlieder'' and Mahler's life history\n",
      "query id: Civilisation%20(TV%20series)/Production, query text: Civilisation (TV series) Production\n",
      "query id: Civilisation%20(TV%20series)/Reception, query text: Civilisation (TV series) Reception\n",
      "query id: Civilisation%20(TV%20series)/Series%20outline, query text: Civilisation (TV series) Series outline\n",
      "query id: Civilisation%20(TV%20series)/Proposed%20BBC%20Remake, query text: Civilisation (TV series) Proposed BBC Remake\n",
      "query id: Northrop%20YB-35/Design%20and%20development, query text: Northrop YB-35 Design and development\n",
      "query id: Northrop%20YB-35/Variants, query text: Northrop YB-35 Variants\n",
      "query id: Northrop%20YB-35/Variants/YRB-49A, query text: Northrop YB-35 Variants YRB-49A\n",
      "qrel query id: $pread/''$pread''%20Book, doc id: 2f545ffad1581dea4a2e4720aa9feb7389e1956a, relevance: 1\n",
      "qrel query id: $pread/Criticism, doc id: 6ef2518ee640495ab28fea0772320c66c0b71454, relevance: 1\n",
      "qrel query id: $pread/History, doc id: 1ee0e5add8fcbc0e18df933f918f8feaf083f469, relevance: 1\n",
      "qrel query id: $pread/History, doc id: 22b6f445624904c9e7ef07272d76bdb769fdc63e, relevance: 1\n",
      "qrel query id: $pread/History, doc id: 9a7ab4fcc93e42ccf598fa7b3dea0b86fc4beeab, relevance: 1\n",
      "qrel query id: $pread/History, doc id: fe0f4715468dbece6d056e6ce310167a7693fbd4, relevance: 1\n",
      "qrel query id: $pread/Mary%20Christmas, doc id: 32cf65234bc6c9b1886e4bdaa7129b4adbb6e84b, relevance: 1\n",
      "qrel query id: %22Wild%20Bill%22%20Hickok/Death, doc id: 9a72404c10fcaf7303c089d79c539b2f3deb4afd, relevance: 1\n",
      "qrel query id: %22Wild%20Bill%22%20Hickok/Death, doc id: d2d73b94cd6d8758ea1b15416c29a4a2c01ae09d, relevance: 1\n",
      "qrel query id: %22Wild%20Bill%22%20Hickok/Death/Burial, doc id: 528b68a3355672c9b8bd5003428b72f54074b3fb, relevance: 1\n",
      "qrel query id: %22Wild%20Bill%22%20Hickok/Death/Burial, doc id: 7177a1f5f5f07b0a25885e8bdb1dff6a63cd6d80, relevance: 1\n",
      "doc id: 0000000e7e72cafb61a9f356b7dceb25c5e028db, text: Ukraine was one of the most dangerous places for journalists in the world during the euromaidan demonstrations and the war in Donbass. A May 2014 report from the OSCE found approximately 300 instances of perceived violent attacks on the media in Ukraine since November 2013.  78 journalists were abducted and illegally detained by various groups in 2014 - a new category of professional risk; 20 such cases happened in Donetsk in April 2014. In July 2014 a firebomb was thrown at the TV channel ''112 Ukraine''.\n"
     ]
    }
   ],
   "source": [
    "import ir_datasets\n",
    "print(\"loading car/v1.5/train/fold0 dataset...\")\n",
    "dataset = ir_datasets.load(\"car/v1.5/train/fold0\")\n",
    "\n",
    "i = 0\n",
    "for query in dataset.queries_iter():\n",
    "    print(f\"query id: {query.query_id}, query text: {query.text}\")\n",
    "    i += 1\n",
    "    if i > 10:\n",
    "        break\n",
    "\n",
    "i = 0\n",
    "for qrel in dataset.qrels_iter():\n",
    "    print(f\"qrel query id: {qrel.query_id}, doc id: {qrel.doc_id}, relevance: {qrel.relevance}\")\n",
    "    i += 1\n",
    "    if i > 10:\n",
    "        break\n",
    "for doc in dataset.docs_iter():\n",
    "    print(f\"doc id: {doc.doc_id}, text: {doc.text}\")\n",
    "    i += 1\n",
    "    if i > 10:\n",
    "        break\n"
   ]
  },
  {
   "cell_type": "code",
   "execution_count": 17,
   "id": "32d15e43",
   "metadata": {},
   "outputs": [
    {
     "name": "stderr",
     "output_type": "stream",
     "text": [
      "[INFO] [starting] building docstore\n"
     ]
    },
    {
     "name": "stdout",
     "output_type": "stream",
     "text": [
      "Selected 1000 queries with 2399 relevant docs\n"
     ]
    },
    {
     "name": "stderr",
     "output_type": "stream",
     "text": [
      "docs_iter: 100%|████████████████| 29678367/29678367 [15:04<00:00, 32813.77doc/s]\n",
      "[INFO] [finished] docs_iter: [15:04] [29678367doc] [32813.74doc/s]\n",
      "[INFO] [finished] building docstore [15:04]\n"
     ]
    },
    {
     "name": "stdout",
     "output_type": "stream",
     "text": [
      "✅ Wrote subset to subset\n"
     ]
    }
   ],
   "source": [
    "import ir_datasets, random, json, os\n",
    "from collections import defaultdict\n",
    "from tqdm import tqdm\n",
    "\n",
    "# ── CONFIG ─────────────────────────────────────────────────────────────────────\n",
    "DATASET     = \"car/v1.5/train/fold0\"\n",
    "MAX_DOCS    = 10_000\n",
    "NUM_QUERIES = 1_000\n",
    "SEED        = 42\n",
    "OUTPUT_DIR  = \"subset\"\n",
    "\n",
    "random.seed(SEED)\n",
    "ds = ir_datasets.load(DATASET)\n",
    "docstore = ds.docs_store()\n",
    "\n",
    "# ── 1) SAMPLE QUERIES & COLLECT QRELS ──────────────────────────────────────────\n",
    "qrel_map = defaultdict(set)\n",
    "for qr in ds.qrels_iter():\n",
    "    if qr.relevance > 0:\n",
    "        qrel_map[qr.query_id].add(qr.doc_id)\n",
    "\n",
    "all_qids = list(qrel_map)\n",
    "random.shuffle(all_qids)\n",
    "selected_qids = set(all_qids[:NUM_QUERIES])\n",
    "\n",
    "relevant_docs = set()\n",
    "qrels_out   = []\n",
    "for qid in selected_qids:\n",
    "    for did in qrel_map[qid]:\n",
    "        relevant_docs.add(did)\n",
    "        qrels_out.append((qid, did, 1))\n",
    "\n",
    "print(f\"Selected {len(selected_qids)} queries with {len(relevant_docs)} relevant docs\")\n",
    "\n",
    "rel_texts = docstore.get_many(list(relevant_docs))\n",
    "\n",
    "# ── 2) COLLECT RELEVANT DOCS ───────────────────────────────────────────────────\n",
    "collected  = {did: rel_texts[did].text for did in relevant_docs}\n",
    "needed_noise = MAX_DOCS - len(collected)\n",
    "noise_count  = 0\n",
    "\n",
    "for doc in ds.docs_iter():\n",
    "    did = doc.doc_id\n",
    "    if did in collected:\n",
    "        continue            # skip any relevant doc we already have\n",
    "    collected[did] = doc.text\n",
    "    noise_count += 1\n",
    "    if noise_count >= needed_noise:\n",
    "        break\n",
    "\n",
    "# ── 3) DUMP TO DISK ──────────────────────────────────────────────────────────────\n",
    "os.makedirs(OUTPUT_DIR, exist_ok=True)\n",
    "# docs.jsonl\n",
    "with open(f\"{OUTPUT_DIR}/docs.jsonl\",\"w\") as f:\n",
    "    for did, text in collected.items():\n",
    "        json.dump({\"doc_id\":did,\"text\":text}, f)\n",
    "        f.write(\"\\n\")\n",
    "\n",
    "# queries.jsonl\n",
    "queries_map = {\n",
    "    q.query_id: q.text\n",
    "    for q in ds.queries_iter()\n",
    "    if q.query_id in selected_qids\n",
    "}\n",
    "with open(f\"{OUTPUT_DIR}/queries.jsonl\",\"w\") as f:\n",
    "    for qid in selected_qids:\n",
    "        json.dump({\"query_id\":qid,\"text\":queries_map[qid]}, f)\n",
    "        f.write(\"\\n\")\n",
    "\n",
    "# qrels.txt\n",
    "with open(f\"{OUTPUT_DIR}/qrels.txt\",\"w\") as f:\n",
    "    for qid, did, rel in qrels_out:\n",
    "        f.write(f\"{qid} 0 {did} {rel}\\n\")\n",
    "\n",
    "print(\"✅ Wrote subset to\", OUTPUT_DIR)\n"
   ]
  },
  {
   "cell_type": "code",
   "execution_count": 4,
   "id": "8816e164",
   "metadata": {},
   "outputs": [
    {
     "name": "stdout",
     "output_type": "stream",
     "text": [
      "docs: 10000 queries: 1000 qrels: 2403\n",
      "{'doc_id': 'e38f292eb9e669e1da6bd5aea8cc1b34992d5556', 'text': \"Wharton served as a delegate to the Convention of 1832 from the District of Victoria. The convention had unanimously elected William Wharton to deliver the resolutions to the Coahuila y Tejas legislature in Saltillo and to the Mexican Congress in Mexico City. Following that convention's unsuccessful attempts to form a new state separate from Coahuila y Tejas (then a part of Mexico), he served as president of the follow-up Convention of 1833 and openly advocated complete independence from Mexico, in contrast to the moderate view held by native Texans and Stephen F. Austin. He later served as a delegate from the Columbia district to the Texas Consultation of 1835.\"}\n",
      "{'doc_id': 'f3f70f4c3bf19b5673ae39917d923e4126d45582', 'text': 'The IDEA 2004 requires each school entity to publish a notice to parents, in newspapers or other media, including the student handbook and website regarding the availability of screening and intervention services and how to access them.'}\n",
      "{'doc_id': 'f94e840439cb3b475b9b4782cd37e14f1e6e129d', 'text': \"The desertions of Bulgaria and Romania had opened a 650-kilometer gap in Friessner's Army Group South.  As Friessner desperately struggled to reform a defensive line, news filtered through to Berlin that the Hungarian leader, Admiral Miklós Horthy was preparing to sign a separate peace with the Soviet Union. If this happened, the entire front of Army Group South Ukraine would collapse.\"}\n",
      "{'doc_id': 'd84ebaefdd752fc1772bf4277127967e76a8dfe5', 'text': 'Getty donated over £140m to various artistic and cultural causes. The National Gallery alone received £50m from him. He was awarded a knighthood in the Order of the British Empire (KBE) in 1987, but as a foreign national he could not use the title \"Sir\". In December 1997 he was granted British citizenship and immediately renounced his US nationality. The Queen reportedly commented: \"Now you can use your title, that\\'s nice.\" '}\n",
      "{'doc_id': 'ccde66b2754e4069a21b068708bb905594ace59f', 'text': \"Marjoribanks served in Madras as Assistant Collector and Magistrate from 29 October 1893 to July 1901. In March 1900, he was appointed Officiating Under-Secretary of the Revenue Department. He served as a member on the Board of Revue and the Commissioner of Salt and Excise, Madras. He also served as the Home member in the executive council of the Governor of Madras, under George Goschen, 2nd Viscount Goschen. When Goschen's tenure came to an end, Marjoribanks was appointed acting Governor until the arrival of George Frederick Stanley.\"}\n",
      "{'doc_id': 'b4cf2595eaf762172813a48ada893a69a3cf41ac', 'text': 'A number of songs on the album were written in the band\\'s early days. They were not included on \\'\\'Appetite for Destruction\\'\\' but can be found on the so-called \\'Rumbo Tapes\\', a popular bootleg album of early demo tapes. \"Back Off Bitch\", \"Bad Obsession\", \"Don\\'t Cry\" (referred to by Rose during the ensuing tour as \\'the first song [they] ever wrote together\\'), \"November Rain\", and \"The Garden\" are considered part of this group. There is also a cover of Paul McCartney and Wings\\' \"Live and Let Die\".'}\n",
      "{'doc_id': '971143c55f2cc7d5377d8c2ef4018904cc4cd024', 'text': \"Near Columbia, the Delaware, Lackawanna and Western Railroad built the Paulinskill Viaduct (known also as the ''Hainesburg Viaduct''), a bridge crossing the Paulins Kill, for the Lackawanna Cut-Off rail corridor.  Begun in 1908, this bridge was deemed an engineering marvel for its use of reinforced concrete.  Spanning 1,100 feet (335 m) across the Paulins Kill Valley, the Viaduct rises 115 feet (35 m) above the valley floor, and opened for rail traffic in 1911. It was the largest concrete viaduct in the world until 1915, when the Lackawanna Railroad opened the Tunkhannock Viaduct in Nicholson, Pennsylvania, spanning over twice the Paulinskill Viaduct's length. Currently abandoned, several plans are underway by New Jersey Transit to open the route as a passenger line to Scranton, Pennsylvania.  This site is commonly visited by adventure-seeking individuals.\"}\n",
      "{'doc_id': '3d3c6af21e38f007da9cabf364e87c6f1989239f', 'text': 'In 1775, Xavier de Medeiros, right in the border of the Canindé River, started building a church for Saint Francis. Nowadays, the Saint Francis church is located at the same place; however, it was totally reformulated by the Italian architect Antonio Mazzoti and the painter George Kau. In 1818, Canindé became a village and in July 29, 1846 the Municipality of Canindé was declared.'}\n",
      "{'doc_id': '33f531c87d7af87d436a774b85ae029aea6749ff', 'text': \"In this calculation ''L'' = ''c''/''c'' where ''c'' is light speed in flat space.\"}\n",
      "{'doc_id': '20771be457c862bf7f91e4abbab800c3ebbe5593', 'text': 'Longer trails include:'}\n",
      "{'query_id': 'Jock%20Taylor/Death', 'text': 'Jock Taylor Death'}\n",
      "{'query_id': 'UnitedHealth%20Group/Reorganization/Prior%20to%20January%202011', 'text': 'UnitedHealth Group Reorganization Prior to January 2011'}\n",
      "{'query_id': 'Drexel%20Dragons/Athletics%20history/Squash', 'text': 'Drexel Dragons Athletics history Squash'}\n",
      "{'query_id': 'Moroccan%20Goumier/World%20War%20II', 'text': 'Moroccan Goumier World War II'}\n",
      "{'query_id': 'John%20Lautner/Biography', 'text': 'John Lautner Biography'}\n",
      "{'query_id': 'Frances%20Cox%20Henderson/Later%20years%20and%20death', 'text': 'Frances Cox Henderson Later years and death'}\n",
      "{'query_id': 'Crested%20barbet/Diet', 'text': 'Crested barbet Diet'}\n",
      "{'query_id': 'Bridge%20of%20Isabel%20II/History/Battle%20of%20Imus', 'text': 'Bridge of Isabel II History Battle of Imus'}\n",
      "{'query_id': \"St%20Andrew's%20Church,%20Chippenham/History\", 'text': \"St Andrew's Church, Chippenham History\"}\n",
      "{'query_id': 'Cambridge%20Line/Stations', 'text': 'Cambridge Line Stations'}\n",
      "['Jock%20Taylor/Death', '0', 'ea6b8e1c8a50997a2e6908ebf8752ed087f97ceb', '1']\n",
      "['UnitedHealth%20Group/Reorganization/Prior%20to%20January%202011', '0', '4f3096b5a4610670b8b8a1d36866a725c268fbfe', '1']\n",
      "['Drexel%20Dragons/Athletics%20history/Squash', '0', '5ffbf1322ceb76a01ada0fc7d584c84792aacc2c', '1']\n",
      "['Drexel%20Dragons/Athletics%20history/Squash', '0', 'ead95279cda8d49dc2351e2fc7ed9c0d0bae90a0', '1']\n",
      "['Moroccan%20Goumier/World%20War%20II', '0', '3e1fe162f67b70790ece8e1da0fad136a9d0666f', '1']\n",
      "['John%20Lautner/Biography', '0', '251265b6cbf6b67a876c4383650ecc3871605ec7', '1']\n",
      "['John%20Lautner/Biography', '0', '3b175fd482ca5741579baf4f59ab92aede4e60f2', '1']\n",
      "['John%20Lautner/Biography', '0', '769c4193935b53460a1f700f7401453bca0b15bc', '1']\n",
      "['John%20Lautner/Biography', '0', '904e9781ac7038286d109b4613e805e7a73e224f', '1']\n",
      "['John%20Lautner/Biography', '0', 'a438c65834831f973243af035136e61d0c165ab8', '1']\n"
     ]
    }
   ],
   "source": [
    "import json\n",
    "OUTPUT_DIR = \"/home/guest/r12922050/GitHub/d2qplus/data/trec-car-10000\"\n",
    "docs = [json.loads(line) for line in open(f\"{OUTPUT_DIR}/docs.jsonl\")]\n",
    "queries = [json.loads(line) for line in open(f\"{OUTPUT_DIR}/queries.jsonl\")]\n",
    "qrels = [line.strip().split() for line in open(f\"{OUTPUT_DIR}/qrels/test.trec\")]\n",
    "print(\"docs:\", len(docs), \"queries:\", len(queries), \"qrels:\", len(qrels))\n",
    "for doc in docs[:10]:\n",
    "    print(doc)\n",
    "for query in queries[:10]:\n",
    "    print(query)\n",
    "for qrel in qrels[:10]:\n",
    "    print(qrel)"
   ]
  },
  {
   "cell_type": "code",
   "execution_count": null,
   "id": "5719c7a0",
   "metadata": {},
   "outputs": [],
   "source": [
    "# change column 'doc_id' to '_id' in docs and queries\n",
    "for doc in docs:\n",
    "    doc['_id'] = doc.pop('doc_id')\n",
    "for query in queries:\n",
    "    query['_id'] = query.pop('query_id')\n",
    "\n",
    "OUTPUT_DIR = \"/home/guest/r12922050/GitHub/d2qplus/data/trec-car-10000\"\n",
    "\n",
    "# save docs and queries to json files\n",
    "with open(f\"{OUTPUT_DIR}/corpus_new.jsonl\", \"w\") as f:\n",
    "    for doc in docs:\n",
    "        json.dump(doc, f)\n",
    "        f.write(\"\\n\")\n",
    "with open(f\"{OUTPUT_DIR}/queries_new.jsonl\", \"w\") as f:\n",
    "    for query in queries:\n",
    "        json.dump(query, f)\n",
    "        f.write(\"\\n\")"
   ]
  },
  {
   "cell_type": "code",
   "execution_count": 7,
   "id": "d2b5b9be",
   "metadata": {},
   "outputs": [
    {
     "data": {
      "text/plain": [
       "{'id': 'MED-10',\n",
       " 'title': 'Statin Use and Breast Cancer Survival: A Nationwide Cohort Study from Finland',\n",
       " 'text': 'Recent studies have suggested that statins, an established drug group in the prevention of cardiovascular mortality, could delay or prevent breast cancer recurrence but the effect on disease-specific mortality remains unclear. We evaluated risk of breast cancer death among statin users in a population-based cohort of breast cancer patients. The study cohort included all newly diagnosed breast cancer patients in Finland during 1995–2003 (31,236 cases), identified from the Finnish Cancer Registry. Information on statin use before and after the diagnosis was obtained from a national prescription database. We used the Cox proportional hazards regression method to estimate mortality among statin users with statin use as time-dependent variable. A total of 4,151 participants had used statins. During the median follow-up of 3.25 years after the diagnosis (range 0.08–9.0 years) 6,011 participants died, of which 3,619 (60.2%) was due to breast cancer. After adjustment for age, tumor characteristics, and treatment selection, both post-diagnostic and pre-diagnostic statin use were associated with lowered risk of breast cancer death (HR 0.46, 95% CI 0.38–0.55 and HR 0.54, 95% CI 0.44–0.67, respectively). The risk decrease by post-diagnostic statin use was likely affected by healthy adherer bias; that is, the greater likelihood of dying cancer patients to discontinue statin use as the association was not clearly dose-dependent and observed already at low-dose/short-term use. The dose- and time-dependence of the survival benefit among pre-diagnostic statin users suggests a possible causal effect that should be evaluated further in a clinical trial testing statins’ effect on survival in breast cancer patients.',\n",
       " 'predicted_queries': '1. what is the ratio of breast cancer mortality among pre diagnostic statin users to post diagnostic statin users in finland?\\n2. what is the effect of statin use in breast cancer patients on short term mortality?\\n3. recent studies suggest that statin use could delay breast cancer recurrence via a proportion of methods including trial design\\n4. how does the proportion of statin use by type affect breast cancer mortality among patients with dominant tumor characteristics?\\n5. what is the association between statin use among recent finland study participants with breast cancer diagnosis and subsequent cancer death?\\n6. the cox proportional regression estimate for breast cancer mortality among statin users is do patient characteristics significantly different?\\n7. recent studies in finland suggest that statin use may be associated with breast cancer death through timelike analysis\\n8. how does the effect of statin use in breast cancer patients on mortality compare to incidence of new cancer cases among statin users?\\n9. what is the significance of post diagnostic vs pre diagnostic statin use in breast cancer patients for  mortality risk?\\n10. does the probability of breast cancer survival among statin users vary by patient characteristic overall?'}"
      ]
     },
     "execution_count": 7,
     "metadata": {},
     "output_type": "execute_result"
    }
   ],
   "source": [
    "import json\n",
    "with open(\"/home/guest/r12922050/GitHub/d2qplus/gen/nfcorpus/Llama-3.2-1B-Instruct-GRPO-separate-reward.jsonl\", \"r\") as f:\n",
    "    obj = [json.loads(line) for line in f]\n",
    "obj[0]"
   ]
  },
  {
   "cell_type": "code",
   "execution_count": 10,
   "id": "68828435",
   "metadata": {},
   "outputs": [],
   "source": [
    "with open(f\"/home/guest/r12922050/GitHub/d2qplus/data/trec-car-10000/corpus.jsonl\", \"r\") as f:\n",
    "    corpus = [json.loads(line) for line in f]\n",
    "\n",
    "# for every document in corpus, add 'predicted_queries' field with empty string\n",
    "for doc in corpus:\n",
    "    doc['id'] = doc.pop('_id')  # rename '_id' to 'id'\n",
    "    doc['predicted_queries'] = \"\"\n",
    "# save corpus to file\n",
    "with open(\"/home/guest/r12922050/GitHub/d2qplus/gen/trec-car/text-only.jsonl\", \"w\") as f:\n",
    "    for doc in corpus:\n",
    "        json.dump(doc, f)\n",
    "        f.write(\"\\n\")\n"
   ]
  },
  {
   "cell_type": "code",
   "execution_count": null,
   "id": "3efb0f18",
   "metadata": {},
   "outputs": [],
   "source": []
  }
 ],
 "metadata": {
  "kernelspec": {
   "display_name": "d2qplus",
   "language": "python",
   "name": "python3"
  },
  "language_info": {
   "codemirror_mode": {
    "name": "ipython",
    "version": 3
   },
   "file_extension": ".py",
   "mimetype": "text/x-python",
   "name": "python",
   "nbconvert_exporter": "python",
   "pygments_lexer": "ipython3",
   "version": "3.9.21"
  }
 },
 "nbformat": 4,
 "nbformat_minor": 5
}
