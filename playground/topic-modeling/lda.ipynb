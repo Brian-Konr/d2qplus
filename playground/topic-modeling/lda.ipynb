{
 "cells": [
  {
   "cell_type": "code",
   "execution_count": 1,
   "id": "b9c47b6d",
   "metadata": {},
   "outputs": [
    {
     "name": "stdout",
     "output_type": "stream",
     "text": [
      "Loaded 3,633 documents from '/home/guest/r12922050/GitHub/d2qplus/data/nfcorpus/corpus.jsonl'\n"
     ]
    }
   ],
   "source": [
    "import json\n",
    "CORPUS_PATH = \"/home/guest/r12922050/GitHub/d2qplus/data/nfcorpus/corpus.jsonl\"\n",
    "corpus_text = {}\n",
    "with open(CORPUS_PATH, \"r\", encoding=\"utf-8\") as f:\n",
    "    corpus_text = {json.loads(line).get(\"_id\"): json.loads(line).get(\"text\", \"\") for line in f}\n",
    "\n",
    "print(f\"Loaded {len(corpus_text):,} documents from '{CORPUS_PATH}'\")"
   ]
  },
  {
   "cell_type": "code",
   "execution_count": 5,
   "id": "f1f64247",
   "metadata": {},
   "outputs": [],
   "source": [
    "from sklearn.feature_extraction.text import CountVectorizer\n",
    "from sklearn.decomposition import LatentDirichletAllocation\n",
    "import numpy as np\n",
    "\n",
    "# 1) Suppose you have `corpus_texts = [doc_0_str, doc_1_str, …]`\n",
    "\n",
    "corpus_texts = list(corpus_text.values())\n",
    "\n",
    "# 2) Build a document‐term matrix\n",
    "vectorizer = CountVectorizer(stop_words=\"english\", max_df=0.9, min_df=5)\n",
    "dtm = vectorizer.fit_transform(corpus_texts)  # (n_docs, n_terms)\n",
    "\n",
    "# 3) Fit LDA with α = 0.8 (relatively “wide” Dirichlet prior so docs show ≥ 3 topics)\n",
    "n_topics = 100\n",
    "lda = LatentDirichletAllocation(\n",
    "    n_components=n_topics,\n",
    "    learning_method=\"batch\",\n",
    "    doc_topic_prior=0.8,     # try 0.5, 0.8, 1.0 to see how it affects sparsity\n",
    "    topic_word_prior=0.01,\n",
    "    max_iter=10,\n",
    "    random_state=42,\n",
    ")\n",
    "lda.fit(dtm)\n",
    "\n",
    "# 4) Get doc–topic distributions ⟶ each row sums to 1\n",
    "doc_topic_dists = lda.transform(dtm)            # shape: (n_docs, n_topics)\n",
    "\n",
    "# 5) For each document, pick **exactly 5** topics with highest probability\n",
    "top5_per_doc = np.argsort(doc_topic_dists, axis=1)[:, ::-1][:, :5]\n"
   ]
  },
  {
   "cell_type": "code",
   "execution_count": 6,
   "id": "b45da6ae",
   "metadata": {},
   "outputs": [
    {
     "name": "stdout",
     "output_type": "stream",
     "text": [
      "Topic 00: workers, cases, exposure, exposed, air, occupational, birth, head, prevalence, poultry\n",
      "Topic 01: sites, lead, scientific, public, samples, site, absence, regulatory, pops, testing\n",
      "Topic 02: cells, cell, induced, expression, cancer, apoptosis, activity, human, growth, tumor\n",
      "Topic 03: meat, beef, pork, human, ige, meats, sodium, emerging, test, tests\n",
      "Topic 04: fish, consumption, apple, women, levels, size, dm, dried, choices, pufas\n",
      "Topic 05: compounds, phytochemicals, flavonoids, interactions, heat, flavonoid, quercetin, grape, garlic, exogenous\n",
      "Topic 06: hormone, hormones, testosterone, prostate, estradiol, yr, hormonal, sex, respiratory, control\n",
      "Topic 07: oil, acid, juice, absorption, dha, orange, omega, epa, fatty, bioavailability\n",
      "Topic 08: beta, essential, methionine, strategy, production, human, origin, concentrations, tract, arginine\n",
      "Topic 09: vegetarian, vegetarians, diet, diets, dietary, patterns, bmi, non, lower, vegan\n",
      "Topic 10: concentration, pesticide, collected, samples, concentrations, study, china, pesticides, extent, residues\n",
      "Topic 11: cancer, cancers, risk, breast, acrylamide, prostate, lignans, lignan, er, postmenopausal\n",
      "Topic 12: exposure, development, mercury, studies, model, genetic, recent, understanding, human, relationship\n",
      "Topic 13: environmental, effects, including, substances, biological, endocrine, receptor, ahr, new, chemicals\n",
      "Topic 14: intake, fat, milk, age, intakes, dairy, associated, dietary, saturated, total\n",
      "Topic 15: patients, treatment, symptoms, bowel, pain, patient, improvement, ibs, placebo, constipation\n",
      "Topic 16: depression, placebo, severity, females, scores, female, clinical, antidepressants, drug, patients\n",
      "Topic 17: eggs, cm, pd, respectively, total, carotene, dietary, predictors, walnut, consumption\n",
      "Topic 18: studies, rate, adverse, events, progression, elderly, effects, survival, grains, advanced\n",
      "Topic 19: fructose, rats, fecal, colonic, bile, significantly, taste, capsaicin, red, beans\n",
      "Topic 20: agents, bacteria, coli, resistance, genes, resistant, drug, antimicrobial, berry, bacterial\n",
      "Topic 21: ad, 36, stroke, factors, myocardial, risk, burden, infarction, disease, year\n",
      "Topic 22: acid, urine, excretion, ph, urinary, colorectal, zinc, storage, materials, uric\n",
      "Topic 23: fed, kg, nut, feeding, melatonin, greater, control, pigs, serving, consumption\n",
      "Topic 24: cognitive, symptoms, brain, decline, mental, disorders, prevalence, depressive, older, function\n",
      "Topic 25: cell, human, antioxidants, induced, drinking, cycle, lymphocytes, status, damage, delay\n",
      "Topic 26: cd, gluten, disease, allergic, diagnosis, allergy, symptoms, challenge, patients, free\n",
      "Topic 27: black, mm, following, fraction, study, bladder, malignant, dried, test, repeated\n",
      "Topic 28: studies, 95, trials, ci, analysis, meta, risk, included, data, rr\n",
      "Topic 29: food, al, hand, μg, dioxin, ranged, field, exposure, occurrence, contamination\n",
      "Topic 30: antioxidant, subjects, serum, renal, carotenoids, tomato, diet, increased, lutein, carotene\n",
      "Topic 31: inflammatory, polyphenols, anthocyanins, phenolic, antioxidant, activities, properties, process, effects, compounds\n",
      "Topic 32: mg, vs, day, caffeine, min, subjects, ingestion, dl, moderate, 21\n",
      "Topic 33: physical, activity, women, lifestyle, persons, percent, health, body, weight, pg\n",
      "Topic 34: anti, alpha, gal, antibodies, antibody, reaction, harmane, human, natural, expressed\n",
      "Topic 35: sd, fibre, date, individuals, mean, glycemic, healthy, 50, types, 40\n",
      "Topic 36: time, sleep, restriction, onset, duration, caloric, ages, short, study, chronic\n",
      "Topic 37: elsevier, rights, compounds, results, reserved, clearly, mushrooms, samples, trans, expected\n",
      "Topic 38: 95, ci, meat, risk, years, men, association, associated, cohort, hr\n",
      "Topic 39: acids, fatty, sweet, potato, dietary, polyunsaturated, coconut, oat, pregnancy, butter\n",
      "Topic 40: patients, lesions, atherosclerosis, controls, arteries, lumbar, fluid, imaging, disease, degeneration\n",
      "Topic 41: 2010, causes, death, sperm, disease, cause, leading, million, global, deaths\n",
      "Topic 42: concentrations, levels, dementia, serum, ng, cadmium, age, pbdes, exposure, higher\n",
      "Topic 43: exposure, used, widely, toxicity, result, reproductive, glyphosate, effects, active, exposures\n",
      "Topic 44: cancer, breast, risk, women, prostate, intake, incidence, diagnosis, radiation, associated\n",
      "Topic 45: sexual, gastric, cherry, cherries, cox, gout, cervical, degrees, effect, soybean\n",
      "Topic 46: plasma, group, sensitivity, decreased, diet, markers, 001, control, levels, 05\n",
      "Topic 47: function, endothelial, rich, plasma, flow, high, mediated, vascular, artery, fmd\n",
      "Topic 48: infection, isolates, mrsa, community, positive, infections, difficile, strains, animals, isolated\n",
      "Topic 49: il, post, pre, levels, stimulated, tnf, cytokine, present, carcinogenesis, 10\n",
      "Topic 50: weight, energy, body, exercise, gain, loss, high, intake, obesity, balance\n",
      "Topic 51: dose, use, response, study, kg, 200, statin, increased, users, increase\n",
      "Topic 52: nutritional, developing, associated, sucrose, data, diabetes, prediabetes, evidence, tolerance, citrus\n",
      "Topic 53: food, gas, calories, home, heavy, information, stores, rectal, ingredients, south\n",
      "Topic 54: coronary, ed, dysfunction, grapefruit, heart, erectile, disease, 10, fresh, 46\n",
      "Topic 55: tissue, positive, uptake, adipose, negative, nitrate, pet, usa, region, ct\n",
      "Topic 56: intake, sugar, free, cocoa, hg, compared, seafood, blood, powder, study\n",
      "Topic 57: soy, infants, fats, pregnancy, anxiety, formula, food, age, nutrient, using\n",
      "Topic 58: children, child, mehg, exposure, studies, literature, research, grade, adolescents, attention\n",
      "Topic 59: insulin, fasting, glucose, obese, index, metabolic, overweight, body, women, ala\n",
      "Topic 60: protein, low, igf, growth, diets, western, diet, high, mtorc1, insulin\n",
      "Topic 61: diet, low, flaxseed, consumers, levels, supplemented, fat, 19, serum, lower\n",
      "Topic 62: placebo, days, controlled, day, randomized, double, cinnamon, significant, blind, antibiotics\n",
      "Topic 63: diseases, liver, chronic, disorders, disease, clinical, use, review, evidence, proposed\n",
      "Topic 64: mortality, cardiovascular, risk, disease, consumption, cause, cvd, coffee, mediterranean, nuts\n",
      "Topic 65: fruit, dental, hip, visual, interventions, fracture, setting, studies, cr, benefit\n",
      "Topic 66: industry, cranberry, tobacco, smoke, ppm, males, aqueous, group, erosion, groups\n",
      "Topic 67: diabetes, type, research, family, practice, mellitus, clinical, results, loss, recommended\n",
      "Topic 68: organic, samples, capacity, cooking, detected, humans, conventional, foods, food, sample\n",
      "Topic 69: use, studies, trials, outcomes, interventions, effectiveness, nausea, review, related, included\n",
      "Topic 70: health, skin, asthma, chicken, poor, defined, prevalence, developed, impact, race\n",
      "Topic 71: meal, response, glucose, responses, postprandial, reduced, meals, bread, area, 30\n",
      "Topic 72: oral, period, plaque, study, bacterial, subjects, carried, counts, potatoes, diet\n",
      "Topic 73: health, lifestyle, care, medical, knowledge, regarding, education, lack, physicians, public\n",
      "Topic 74: smoking, controls, cases, lung, pancreatic, risk, study, japanese, longer, years\n",
      "Topic 75: red, water, given, food, conditions, snack, limits, cs, school, intake\n",
      "Topic 76: products, food, content, safety, foods, phosphorus, phosphate, containing, additives, 100\n",
      "Topic 77: intake, tea, fiber, vegetables, consumption, dietary, vegetable, risk, fruit, green\n",
      "Topic 78: ml, extract, microg, extracts, levels, significant, concentration, concentrations, ethanol, study\n",
      "Topic 79: considered, treatment, training, women, features, management, exercise, aerobic, group, line\n",
      "Topic 80: vitamin, dna, 25, damage, oxidative, supplementation, oh, ros, microm, oxygen\n",
      "Topic 81: curcumin, water, clinical, treatment, estrogens, drinking, efficacy, treatments, usually, effective\n",
      "Topic 82: mood, eaters, level, non, state, micrograms, power, fish, nervous, meat\n",
      "Topic 83: pcb, hpv, pcbs, concentrations, polychlorinated, 180, 24, persistent, biphenyls, types\n",
      "Topic 84: stress, activity, aging, changes, increases, chocolate, oxidative, decreases, longevity, perceived\n",
      "Topic 85: cardiac, oa, plus, incidence, data, death, primary, sudden, overall, estrogen\n",
      "Topic 86: program, diet, potentially, pilot, small, laboratory, aspects, pcos, metabolic, disease\n",
      "Topic 87: immune, intestinal, disease, role, gut, inflammation, review, function, pathogenesis, functions\n",
      "Topic 88: bmaa, length, als, telomere, possible, processing, produced, neurodegenerative, sulfide, electron\n",
      "Topic 89: 95, ci, risk, women, trend, associated, men, total, study, confidence\n",
      "Topic 90: calcium, urinary, rice, 100, bone, content, white, contents, kidney, mg\n",
      "Topic 91: salt, report, reduction, hours, sodium, nutrition, cost, required, reducing, sitting\n",
      "Topic 92: cholesterol, group, blood, diet, pressure, intervention, ldl, density, lipoprotein, groups\n",
      "Topic 93: score, recommendations, beverages, diet, adherence, points, drinks, women, dietary, participants\n",
      "Topic 94: iron, vitamin, serum, dietary, lower, omnivores, folate, levels, homocysteine, status\n",
      "Topic 95: phip, chromatography, cooked, amino, spectrometry, methyl, liquid, mass, hair, amines\n",
      "Topic 96: traditional, broccoli, medicine, dry, plants, various, turmeric, sulforaphane, herbal, drugs\n",
      "Topic 97: fatty, muscle, insulin, acids, resistance, hypothesis, lipid, mechanism, development, nutrients\n",
      "Topic 98: factors, risk, countries, states, united, national, 000, prevalence, population, health\n",
      "Topic 99: plant, fruits, vegetables, dietary, foods, antioxidant, health, diets, rich, diet\n"
     ]
    }
   ],
   "source": [
    "feature_names = vectorizer.get_feature_names_out()\n",
    "topic_word_list = []\n",
    "n_top_words   = 10\n",
    "for topic_idx, word_counts in enumerate(lda.components_):\n",
    "    top_word_ids = word_counts.argsort()[::-1][:n_top_words]\n",
    "    top_words    = [feature_names[i] for i in top_word_ids]\n",
    "    topic_word_list.append(top_words)\n",
    "    print(f\"Topic {topic_idx:02d}: {', '.join(top_words)}\")"
   ]
  },
  {
   "cell_type": "code",
   "execution_count": null,
   "id": "6927839c",
   "metadata": {},
   "outputs": [
    {
     "data": {
      "text/plain": [
       "array([[44, 38, 28, 18, 16],\n",
       "       [44, 38, 11, 41, 18],\n",
       "       [ 8,  7, 14, 38, 23],\n",
       "       ...,\n",
       "       [ 5,  1, 11, 43, 22],\n",
       "       [11, 18, 41, 40, 24],\n",
       "       [43, 46, 14, 27, 18]])"
      ]
     },
     "execution_count": 3,
     "metadata": {},
     "output_type": "execute_result"
    }
   ],
   "source": [
    "for doc, topic_ids in zip(cor)"
   ]
  },
  {
   "cell_type": "code",
   "execution_count": null,
   "id": "162a9c1e",
   "metadata": {},
   "outputs": [],
   "source": []
  }
 ],
 "metadata": {
  "kernelspec": {
   "display_name": "bertopic",
   "language": "python",
   "name": "python3"
  },
  "language_info": {
   "codemirror_mode": {
    "name": "ipython",
    "version": 3
   },
   "file_extension": ".py",
   "mimetype": "text/x-python",
   "name": "python",
   "nbconvert_exporter": "python",
   "pygments_lexer": "ipython3",
   "version": "3.9.21"
  }
 },
 "nbformat": 4,
 "nbformat_minor": 5
}
