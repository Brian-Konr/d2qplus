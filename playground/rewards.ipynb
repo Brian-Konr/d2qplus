{
 "cells": [
  {
   "cell_type": "code",
   "execution_count": 2,
   "id": "c742a6b6",
   "metadata": {},
   "outputs": [],
   "source": [
    "from sacrebleu.metrics import BLEU\n",
    "from collections import Counter\n",
    "from nltk import ngrams, word_tokenize\n",
    "import numpy as np"
   ]
  },
  {
   "cell_type": "code",
   "execution_count": 3,
   "id": "669f7003",
   "metadata": {},
   "outputs": [
    {
     "name": "stdout",
     "output_type": "stream",
     "text": [
      "Distinct-2: 0.6667\n",
      "Self-BLEU: 0.5059\n"
     ]
    }
   ],
   "source": [
    "toy = [\n",
    "    \"effects of caffeine on sleep\",\n",
    "    \"how does caffeine influence sleep quality\",\n",
    "    \"benefits of regular exercise for heart health\",\n",
    "    \"cardio workouts and heart health benefits\",\n",
    "    \"sleep deprivation caffeine relationship\",\n",
    "    \"cardio workouts and heart health benefits\",\n",
    "    \"cardio workouts and heart health benefits\",\n",
    "]\n",
    "\n",
    "bleu = BLEU(effective_order=True)\n",
    "\n",
    "def tokenize(text):\n",
    "    return word_tokenize(text.lower())\n",
    "\n",
    "def distinct2(queries) -> float:\n",
    "    bigram_counter = Counter()\n",
    "    total_bigrams = 0\n",
    "    for q in queries:\n",
    "        tokens = tokenize(q)\n",
    "        bgs = list(ngrams(tokens, 2))\n",
    "        bigram_counter.update(bgs)\n",
    "        total_bigrams += len(bgs)\n",
    "\n",
    "    if total_bigrams == 0:\n",
    "        return 0.0\n",
    "    return len(bigram_counter) / total_bigrams\n",
    "\n",
    "def self_bleu(queries) -> float:\n",
    "    if len(queries) < 2:\n",
    "            return 0.0\n",
    "    scores = []\n",
    "    for i, hyp in enumerate(queries):\n",
    "        refs = [queries[j] for j in range(len(queries)) if j != i]\n",
    "        score = bleu.sentence_score(hyp, refs).score / 100.0  # sacrebleu return 0–100\n",
    "        scores.append(score)\n",
    "    return float(np.mean(scores))\n",
    "\n",
    "d2 = distinct2(toy)\n",
    "s2 = self_bleu(toy)\n",
    "print(f\"Distinct-2: {d2:.4f}\")\n",
    "print(f\"Self-BLEU: {s2:.4f}\")\n",
    "\n"
   ]
  },
  {
   "cell_type": "code",
   "execution_count": 14,
   "id": "14548070",
   "metadata": {},
   "outputs": [
    {
     "name": "stderr",
     "output_type": "stream",
     "text": [
      "Calculating metrics: 100%|██████████| 3633/3633 [00:15<00:00, 231.19it/s]\n"
     ]
    },
    {
     "name": "stdout",
     "output_type": "stream",
     "text": [
      "Metrics for grpo:\n",
      "  Average Distinct-2: 0.7870\n",
      "  Average Self-BLEU: 0.2512\n",
      "\n"
     ]
    },
    {
     "name": "stderr",
     "output_type": "stream",
     "text": [
      "Calculating metrics: 100%|██████████| 3633/3633 [00:20<00:00, 175.29it/s]\n"
     ]
    },
    {
     "name": "stdout",
     "output_type": "stream",
     "text": [
      "Metrics for promptagator:\n",
      "  Average Distinct-2: 0.5459\n",
      "  Average Self-BLEU: 0.4904\n",
      "\n"
     ]
    },
    {
     "name": "stderr",
     "output_type": "stream",
     "text": [
      "Calculating metrics: 100%|██████████| 3633/3633 [00:07<00:00, 498.52it/s]\n"
     ]
    },
    {
     "name": "stdout",
     "output_type": "stream",
     "text": [
      "Metrics for t5:\n",
      "  Average Distinct-2: 0.7613\n",
      "  Average Self-BLEU: 0.3386\n",
      "\n"
     ]
    },
    {
     "name": "stderr",
     "output_type": "stream",
     "text": [
      "Calculating metrics: 100%|██████████| 3633/3633 [00:18<00:00, 195.78it/s]\n"
     ]
    },
    {
     "name": "stdout",
     "output_type": "stream",
     "text": [
      "Metrics for with-topic-prompt:\n",
      "  Average Distinct-2: 0.6836\n",
      "  Average Self-BLEU: 0.3893\n",
      "\n"
     ]
    },
    {
     "name": "stderr",
     "output_type": "stream",
     "text": [
      "Calculating metrics: 100%|██████████| 3633/3633 [00:18<00:00, 195.75it/s]"
     ]
    },
    {
     "name": "stdout",
     "output_type": "stream",
     "text": [
      "Metrics for without-topic-prompt:\n",
      "  Average Distinct-2: 0.6798\n",
      "  Average Self-BLEU: 0.3928\n",
      "\n"
     ]
    },
    {
     "name": "stderr",
     "output_type": "stream",
     "text": [
      "\n"
     ]
    }
   ],
   "source": [
    "from tqdm import tqdm\n",
    "import json\n",
    "\n",
    "def calc_metrics(gen_qs):\n",
    "    d2_scores = []\n",
    "    self_bleu_scores = []\n",
    "    for q in tqdm(gen_qs, desc=\"Calculating metrics\"):\n",
    "        d2_scores.append(distinct2(q[\"predicted_queries\"]))\n",
    "        self_bleu_scores.append(self_bleu(q[\"predicted_queries\"]))\n",
    "\n",
    "    avg_d2 = np.mean(d2_scores)\n",
    "    avg_self_bleu = np.mean(self_bleu_scores)\n",
    "    \n",
    "    return avg_d2, avg_self_bleu\n",
    "\n",
    "# Example usage\n",
    "GEN_Q_PATHS = {\n",
    "    \"grpo\": \"/home/guest/r12922050/GitHub/d2qplus/gen/nfcorpus/Llama-3.2-1B-Instruct-GRPO-separate-reward.jsonl\",\n",
    "    \"promptagator\": \"/home/guest/r12922050/GitHub/d2qplus/gen/nfcorpus/Llama-3.2-1B-Instruct-promptagator.jsonl\",\n",
    "    \"t5\": \"/home/guest/r12922050/GitHub/d2qplus/gen/nfcorpus/t5_10q.jsonl\",\n",
    "    \"with-topic-prompt\": \"/home/guest/r12922050/GitHub/d2qplus/gen/nfcorpus/with_topic_llama_1b.jsonl\",\n",
    "    \"without-topic-prompt\": \"/home/guest/r12922050/GitHub/d2qplus/gen/nfcorpus/without_topic_llama_1b.jsonl\"\n",
    "}\n",
    "\n",
    "for name, path in GEN_Q_PATHS.items():\n",
    "    with open(path, \"r\") as f:\n",
    "        gen_qs = [json.loads(line) for line in f]\n",
    "    if name in [\"grpo\", \"with-topic-prompt\", \"without-topic-prompt\"]:\n",
    "        pred_queries = []\n",
    "        for q in gen_qs:\n",
    "            trimmed = q[\"predicted_queries\"].strip()\n",
    "            # segment by newline\n",
    "            queries = [line.strip() for line in trimmed.split(\"\\n\") if line.strip()]\n",
    "            pred_queries.append(queries)\n",
    "        gen_qs = [{\"predicted_queries\": queries} for queries in pred_queries]\n",
    "\n",
    "    avg_d2, avg_self_bleu = calc_metrics(gen_qs)\n",
    "    print(f\"Metrics for {name}:\")\n",
    "    print(f\"  Average Distinct-2: {avg_d2:.4f}\")\n",
    "    print(f\"  Average Self-BLEU: {avg_self_bleu:.4f}\\n\")"
   ]
  },
  {
   "cell_type": "code",
   "execution_count": null,
   "id": "47198576",
   "metadata": {},
   "outputs": [],
   "source": [
    "GEN_Q_PATHS = {\n",
    "    \"grpo\": \"/home/guest/r12922050/GitHub/d2qplus/gen/nfcorpus/Llama-3.2-1B-Instruct-GRPO-separate-reward.jsonl\",\n",
    "    \"promptagator\": \"/home/guest/r12922050/GitHub/d2qplus/gen/nfcorpus/Llama-3.2-1B-Instruct-promptagator.jsonl\",\n",
    "    \"t5\": \"/home/guest/r12922050/GitHub/d2qplus/gen/nfcorpus/t5_10q.jsonl\",\n",
    "    \"with-topic-prompt\": \"/home/guest/r12922050/GitHub/d2qplus/gen/nfcorpus/with_topic_llama_1b.jsonl\",\n",
    "    \"without-topic-prompt\": \"/home/guest/r12922050/GitHub/d2qplus/gen/nfcorpus/without_topic_llama_1b.jsonl\"\n",
    "}\n",
    "\n",
    "for name, path in GEN_Q_PATHS.items():\n",
    "    if name in [\"grpo\", \"with-topic-prompt\", \"without-topic-prompt\"]:\n",
    "        "
   ]
  },
  {
   "cell_type": "code",
   "execution_count": 13,
   "id": "7c559636",
   "metadata": {},
   "outputs": [
    {
     "data": {
      "text/plain": [
       "{'id': 'MED-10',\n",
       " 'title': 'Statin Use and Breast Cancer Survival: A Nationwide Cohort Study from Finland',\n",
       " 'text': 'Recent studies have suggested that statins, an established drug group in the prevention of cardiovascular mortality, could delay or prevent breast cancer recurrence but the effect on disease-specific mortality remains unclear. We evaluated risk of breast cancer death among statin users in a population-based cohort of breast cancer patients. The study cohort included all newly diagnosed breast cancer patients in Finland during 1995–2003 (31,236 cases), identified from the Finnish Cancer Registry. Information on statin use before and after the diagnosis was obtained from a national prescription database. We used the Cox proportional hazards regression method to estimate mortality among statin users with statin use as time-dependent variable. A total of 4,151 participants had used statins. During the median follow-up of 3.25 years after the diagnosis (range 0.08–9.0 years) 6,011 participants died, of which 3,619 (60.2%) was due to breast cancer. After adjustment for age, tumor characteristics, and treatment selection, both post-diagnostic and pre-diagnostic statin use were associated with lowered risk of breast cancer death (HR 0.46, 95% CI 0.38–0.55 and HR 0.54, 95% CI 0.44–0.67, respectively). The risk decrease by post-diagnostic statin use was likely affected by healthy adherer bias; that is, the greater likelihood of dying cancer patients to discontinue statin use as the association was not clearly dose-dependent and observed already at low-dose/short-term use. The dose- and time-dependence of the survival benefit among pre-diagnostic statin users suggests a possible causal effect that should be evaluated further in a clinical trial testing statins’ effect on survival in breast cancer patients.',\n",
       " 'predicted_queries': '1. Can statins slow down breast cancer recurrence in patients with established disease?\\n2. Do statins affect mortality in breast cancer patients after diagnosis?\\n3. What is the association between statin use and mortality in breast cancer patients?\\n4. Can statin use delay cancer recurrence in 4,151 breast cancer patients?\\n5. What is the significance of the HR of 0.38 for statin use in relation to breast cancer death?\\n6. How does the effect of statin use on breast cancer mortality vary with time?\\n7. What is the dose-dependent impact of statin use on breast cancer mortality in pre-diagnostic patients?\\n8. Does pre-diagnostic statin use reduce breast cancer mortality in patients?\\n9. Can statins prevent breast cancer recurrence in 3,619 cancer patients diagnosed with breast cancer?\\n10. How does the likelihood of stopping statin use affect the association between statin use and breast cancer mortality?'}"
      ]
     },
     "execution_count": 13,
     "metadata": {},
     "output_type": "execute_result"
    }
   ],
   "source": [
    "with open(\"/home/guest/r12922050/GitHub/d2qplus/gen/nfcorpus/with_topic_llama_1b.jsonl\", \"r\") as f:\n",
    "    promptagator_qs = [json.loads(line) for line in f]\n",
    "promptagator_qs[0]"
   ]
  },
  {
   "cell_type": "code",
   "execution_count": null,
   "id": "77c1ddcd",
   "metadata": {},
   "outputs": [],
   "source": []
  }
 ],
 "metadata": {
  "kernelspec": {
   "display_name": "bertopic",
   "language": "python",
   "name": "python3"
  },
  "language_info": {
   "codemirror_mode": {
    "name": "ipython",
    "version": 3
   },
   "file_extension": ".py",
   "mimetype": "text/x-python",
   "name": "python",
   "nbconvert_exporter": "python",
   "pygments_lexer": "ipython3",
   "version": "3.9.21"
  }
 },
 "nbformat": 4,
 "nbformat_minor": 5
}
